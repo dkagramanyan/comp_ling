{
 "cells": [
  {
   "cell_type": "code",
   "execution_count": 1,
   "metadata": {
    "collapsed": true,
    "pycharm": {
     "name": "#%%\n"
    }
   },
   "outputs": [],
   "source": [
    "from natasha import PER, NamesExtractor,MorphVocab,Segmenter, NewsEmbedding,NewsMorphTagger,NewsSyntaxParser,Doc,NewsNERTagger"
   ]
  },
  {
   "cell_type": "code",
   "execution_count": 2,
   "outputs": [
    {
     "name": "stdout",
     "output_type": "stream",
     "text": [
      "            Перейдем VERB|Aspect=Perf|Mood=Ind|Number=Plur|Person=1|Tense=Fut|VerbForm=Fin|Voice=Act\n",
      "                   к ADP\n",
      "             разделу NOUN|Animacy=Inan|Case=Dat|Gender=Masc|Number=Sing\n",
      "           обработки NOUN|Animacy=Inan|Case=Gen|Gender=Fem|Number=Sing\n",
      "            цифровых ADJ|Case=Gen|Degree=Pos|Number=Plur\n",
      "             снимков NOUN|Animacy=Inan|Case=Gen|Gender=Masc|Number=Plur\n",
      "       микроструктур ADJ|Case=Gen|Degree=Pos|Gender=Masc|Number=Sing\n",
      "        исследуемого ADJ|Case=Gen|Degree=Pos|Gender=Masc|Number=Sing\n",
      "              сплава NOUN|Animacy=Inan|Case=Gen|Gender=Masc|Number=Sing\n",
      "                   . PUNCT\n",
      "-------\n",
      "          Существует VERB|Aspect=Imp|Mood=Ind|Number=Sing|Person=3|Tense=Pres|VerbForm=Fin|Voice=Act\n",
      "           множество NOUN|Animacy=Inan|Case=Nom|Gender=Neut|Number=Sing\n",
      "          алгоритмов NOUN|Animacy=Inan|Case=Gen|Gender=Masc|Number=Plur\n",
      "          извлечение NOUN|Animacy=Inan|Case=Nom|Gender=Neut|Number=Sing\n",
      "           признаков NOUN|Animacy=Inan|Case=Gen|Gender=Masc|Number=Plur\n",
      "                   с ADP\n",
      "           растровых NOUN|Animacy=Inan|Case=Ins|Gender=Fem|Number=Sing\n",
      "         изображений NOUN|Animacy=Inan|Case=Gen|Gender=Neut|Number=Plur\n",
      "                   . PUNCT\n",
      "-------\n",
      "          Рассмотрим VERB|Aspect=Perf|Mood=Ind|Number=Plur|Person=1|Tense=Fut|VerbForm=Fin|Voice=Act\n",
      "           алгоритмы NOUN|Animacy=Inan|Case=Acc|Gender=Masc|Number=Plur\n",
      "       компьютерного ADJ|Case=Gen|Degree=Pos|Gender=Neut|Number=Sing\n",
      "              зрения NOUN|Animacy=Inan|Case=Gen|Gender=Neut|Number=Sing\n",
      "                   , PUNCT\n",
      "                 при ADP\n",
      "              помощи NOUN|Animacy=Inan|Case=Loc|Gender=Fem|Number=Sing\n",
      "             которых PRON|Case=Gen|Number=Plur\n",
      "               можно ADV|Degree=Pos\n",
      "             собрать VERB|Aspect=Perf|VerbForm=Inf|Voice=Act\n",
      "                   < PUNCT\n",
      "                   < PUNCT\n",
      "           геометрию NOUN|Animacy=Inan|Case=Acc|Gender=Fem|Number=Sing\n",
      "                   > PUNCT\n",
      "                   > SYM\n",
      "                   ( PUNCT\n",
      "                углы NOUN|Animacy=Inan|Case=Nom|Gender=Masc|Number=Plur\n",
      "              сторон NOUN|Animacy=Inan|Case=Gen|Gender=Fem|Number=Plur\n",
      "                   , PUNCT\n",
      "              ширина NOUN|Animacy=Inan|Case=Nom|Gender=Fem|Number=Sing\n",
      "                   , PUNCT\n",
      "              высота NOUN|Animacy=Inan|Case=Nom|Gender=Fem|Number=Sing\n",
      "                   , PUNCT\n",
      "            кластеры NOUN|Animacy=Inan|Case=Nom|Gender=Masc|Number=Plur\n",
      "            объектов NOUN|Animacy=Inan|Case=Gen|Gender=Masc|Number=Plur\n",
      "                   и CCONJ\n",
      "                  тд NOUN|Animacy=Inan|Case=Gen|Gender=Fem|Number=Sing\n",
      "                   ) PUNCT\n",
      "                   . PUNCT\n",
      "-------\n"
     ]
    }
   ],
   "source": [
    "segmenter = Segmenter()\n",
    "\n",
    "emb = NewsEmbedding()\n",
    "morph_tagger = NewsMorphTagger(emb)\n",
    "syntax_parser = NewsSyntaxParser(emb)\n",
    "\n",
    "# text = 'Посол Израиля на Украине Йоэль Лион признался, что пришел в шок, узнав о решении властей Львовской области объявить 2019 год годом лидера запрещенной в России Организации украинских националистов (ОУН) Степана Бандеры...'\n",
    "text='Перейдем к разделу обработки цифровых снимков микроструктур исследуемого сплава. Существует множество алгоритмов извлечение признаков с растровых изображений. Рассмотрим алгоритмы компьютерного зрения, при помощи которых можно собрать <<геометрию>> (углы сторон, ширина, высота, кластеры объектов и тд).'\n",
    "\n",
    "# text='То вернувшийся и встревоженный муж искал по деревне свою жену. А с огородов слышался в это время несдерживаемый смех: жена забылась, опьянела и счастием нескольких часов старалась наверстать ожидавшую ее назавтра муку.'\n",
    "doc = Doc(text)\n",
    "\n",
    "doc.segment(segmenter)\n",
    "doc.tag_morph(morph_tagger)\n",
    "doc.parse_syntax(syntax_parser)\n",
    "\n",
    "sent = doc.sents[0]\n",
    "for sent in doc.sents:\n",
    "    sent.morph.print()\n",
    "    # sent.syntax.print()\n",
    "    print('-------')"
   ],
   "metadata": {
    "collapsed": false,
    "pycharm": {
     "name": "#%%\n"
    }
   }
  },
  {
   "cell_type": "code",
   "execution_count": 12,
   "outputs": [
    {
     "data": {
      "text/plain": "[DocToken(stop=8, text='Перейдем', id='1_1', head_id='1_0', rel='root', pos='VERB', feats=<Perf,Ind,Plur,1,Fut,Fin,Act>),\n DocToken(start=9, stop=10, text='к', id='1_2', head_id='1_3', rel='case', pos='ADP'),\n DocToken(start=11, stop=18, text='разделу', id='1_3', head_id='1_1', rel='obl', pos='NOUN', feats=<Inan,Dat,Masc,Sing>),\n DocToken(start=19, stop=28, text='обработки', id='1_4', head_id='1_3', rel='nmod', pos='NOUN', feats=<Inan,Gen,Fem,Sing>),\n DocToken(start=29, stop=37, text='цифровых', id='1_5', head_id='1_6', rel='amod', pos='ADJ', feats=<Gen,Pos,Plur>),\n DocToken(start=38, stop=45, text='снимков', id='1_6', head_id='1_4', rel='nmod', pos='NOUN', feats=<Inan,Gen,Masc,Plur>),\n DocToken(start=46, stop=59, text='микроструктур', id='1_7', head_id='1_9', rel='amod', pos='ADJ', feats=<Gen,Pos,Masc,Sing>),\n DocToken(start=60, stop=72, text='исследуемого', id='1_8', head_id='1_9', rel='amod', pos='ADJ', feats=<Gen,Pos,Masc,Sing>),\n DocToken(start=73, stop=79, text='сплава', id='1_9', head_id='1_7', rel='nmod', pos='NOUN', feats=<Inan,Gen,Masc,Sing>),\n DocToken(start=79, stop=80, text='.', id='1_10', head_id='1_1', rel='punct', pos='PUNCT'),\n DocToken(start=81, stop=91, text='Существует', id='2_1', head_id='2_0', rel='root', pos='VERB', feats=<Imp,Ind,Sing,3,Pres,Fin,Act>),\n DocToken(start=92, stop=101, text='множество', id='2_2', head_id='2_1', rel='nsubj', pos='NOUN', feats=<Inan,Nom,Neut,Sing>),\n DocToken(start=102, stop=112, text='алгоритмов', id='2_3', head_id='2_2', rel='nmod', pos='NOUN', feats=<Inan,Gen,Masc,Plur>),\n DocToken(start=113, stop=123, text='извлечение', id='2_4', head_id='2_3', rel='nmod', pos='NOUN', feats=<Inan,Nom,Neut,Sing>),\n DocToken(start=124, stop=133, text='признаков', id='2_5', head_id='2_4', rel='nmod', pos='NOUN', feats=<Inan,Gen,Masc,Plur>),\n DocToken(start=134, stop=135, text='с', id='2_6', head_id='2_7', rel='case', pos='ADP'),\n DocToken(start=136, stop=145, text='растровых', id='2_7', head_id='2_8', rel='amod', pos='NOUN', feats=<Inan,Ins,Fem,Sing>),\n DocToken(start=146, stop=157, text='изображений', id='2_8', head_id='2_5', rel='nmod', pos='NOUN', feats=<Inan,Gen,Neut,Plur>),\n DocToken(start=157, stop=158, text='.', id='2_9', head_id='2_1', rel='punct', pos='PUNCT'),\n DocToken(start=159, stop=169, text='Рассмотрим', id='3_1', head_id='3_0', rel='root', pos='VERB', feats=<Perf,Ind,Plur,1,Fut,Fin,Act>),\n DocToken(start=170, stop=179, text='алгоритмы', id='3_2', head_id='3_1', rel='obj', pos='NOUN', feats=<Inan,Acc,Masc,Plur>),\n DocToken(start=180, stop=193, text='компьютерного', id='3_3', head_id='3_4', rel='amod', pos='ADJ', feats=<Gen,Pos,Neut,Sing>),\n DocToken(start=194, stop=200, text='зрения', id='3_4', head_id='3_2', rel='nmod', pos='NOUN', feats=<Inan,Gen,Neut,Sing>),\n DocToken(start=200, stop=201, text=',', id='3_5', head_id='3_9', rel='punct', pos='PUNCT'),\n DocToken(start=202, stop=205, text='при', id='3_6', head_id='3_8', rel='case', pos='ADP'),\n DocToken(start=206, stop=212, text='помощи', id='3_7', head_id='3_6', rel='fixed', pos='NOUN', feats=<Inan,Loc,Fem,Sing>),\n DocToken(start=213, stop=220, text='которых', id='3_8', head_id='3_10', rel='obl', pos='PRON', feats=<Gen,Plur>),\n DocToken(start=221, stop=226, text='можно', id='3_9', head_id='3_4', rel='acl:relcl', pos='ADV', feats=<Pos>),\n DocToken(start=227, stop=234, text='собрать', id='3_10', head_id='3_9', rel='csubj', pos='VERB', feats=<Perf,Inf,Act>),\n DocToken(start=235, stop=236, text='<', id='3_11', head_id='3_17', rel='punct', pos='PUNCT'),\n DocToken(start=236, stop=237, text='<', id='3_12', head_id='3_13', rel='punct', pos='PUNCT'),\n DocToken(start=237, stop=246, text='геометрию', id='3_13', head_id='3_10', rel='obj', pos='NOUN', feats=<Inan,Acc,Fem,Sing>),\n DocToken(start=246, stop=247, text='>', id='3_14', head_id='3_13', rel='punct', pos='PUNCT'),\n DocToken(start=247, stop=248, text='>', id='3_15', head_id='3_13', rel='punct', pos='SYM'),\n DocToken(start=249, stop=250, text='(', id='3_16', head_id='3_17', rel='punct', pos='PUNCT'),\n DocToken(start=250, stop=254, text='углы', id='3_17', head_id='3_13', rel='parataxis', pos='NOUN', feats=<Inan,Nom,Masc,Plur>),\n DocToken(start=255, stop=261, text='сторон', id='3_18', head_id='3_17', rel='nmod', pos='NOUN', feats=<Inan,Gen,Fem,Plur>),\n DocToken(start=261, stop=262, text=',', id='3_19', head_id='3_22', rel='punct', pos='PUNCT'),\n DocToken(start=263, stop=269, text='ширина', id='3_20', head_id='3_13', rel='conj', pos='NOUN', feats=<Inan,Nom,Fem,Sing>),\n DocToken(start=269, stop=270, text=',', id='3_21', head_id='3_22', rel='punct', pos='PUNCT'),\n DocToken(start=271, stop=277, text='высота', id='3_22', head_id='3_13', rel='conj', pos='NOUN', feats=<Inan,Nom,Fem,Sing>),\n DocToken(start=277, stop=278, text=',', id='3_23', head_id='3_24', rel='punct', pos='PUNCT'),\n DocToken(start=279, stop=287, text='кластеры', id='3_24', head_id='3_13', rel='conj', pos='NOUN', feats=<Inan,Nom,Masc,Plur>),\n DocToken(start=288, stop=296, text='объектов', id='3_25', head_id='3_24', rel='nmod', pos='NOUN', feats=<Inan,Gen,Masc,Plur>),\n DocToken(start=297, stop=298, text='и', id='3_26', head_id='3_27', rel='cc', pos='CCONJ'),\n DocToken(start=299, stop=301, text='тд', id='3_27', head_id='3_18', rel='conj', pos='NOUN', feats=<Inan,Gen,Fem,Sing>),\n DocToken(start=301, stop=302, text=')', id='3_28', head_id='3_17', rel='punct', pos='PUNCT'),\n DocToken(start=302, stop=303, text='.', id='3_29', head_id='3_1', rel='punct', pos='PUNCT')]"
     },
     "execution_count": 12,
     "metadata": {},
     "output_type": "execute_result"
    }
   ],
   "source": [
    "doc.__dict__['tokens']"
   ],
   "metadata": {
    "collapsed": false,
    "pycharm": {
     "name": "#%%\n"
    }
   }
  },
  {
   "cell_type": "code",
   "execution_count": null,
   "outputs": [],
   "source": [
    "doc.__dict__"
   ],
   "metadata": {
    "collapsed": false,
    "pycharm": {
     "name": "#%%\n"
    }
   }
  },
  {
   "cell_type": "code",
   "execution_count": 14,
   "outputs": [
    {
     "data": {
      "text/plain": "{'Посол': 'посол',\n 'Израиля': 'израиль',\n 'на': 'на',\n 'Украине': 'украина',\n 'Йоэль': 'йоэль',\n 'Лион': 'лион',\n 'признался': 'признаться',\n ',': ',',\n 'что': 'что',\n 'пришел': 'прийти',\n 'в': 'в',\n 'шок': 'шок',\n 'узнав': 'узнать',\n 'о': 'о',\n 'решении': 'решение',\n 'властей': 'власть',\n 'Львовской': 'львовский',\n 'области': 'область',\n 'объявить': 'объявить',\n '2019': '2019',\n 'год': 'год',\n 'годом': 'год',\n 'лидера': 'лидер',\n 'запрещенной': 'запретить',\n 'России': 'россия',\n 'Организации': 'организация',\n 'украинских': 'украинский',\n 'националистов': 'националист',\n '(': '(',\n 'ОУН': 'оун',\n ')': ')',\n 'Степана': 'степан',\n 'Бандеры': 'бандера',\n '...': '...'}"
     },
     "execution_count": 14,
     "metadata": {},
     "output_type": "execute_result"
    }
   ],
   "source": [
    "morph_vocab = MorphVocab()\n",
    "\n",
    "for token in doc.tokens:\n",
    "        token.lemmatize(morph_vocab)\n",
    "\n",
    "{_.text: _.lemma for _ in doc.tokens}"
   ],
   "metadata": {
    "collapsed": false,
    "pycharm": {
     "name": "#%%\n"
    }
   }
  },
  {
   "cell_type": "code",
   "execution_count": 18,
   "outputs": [
    {
     "ename": "TypeError",
     "evalue": "'NoneType' object is not iterable",
     "output_type": "error",
     "traceback": [
      "\u001B[1;31m---------------------------------------------------------------------------\u001B[0m",
      "\u001B[1;31mTypeError\u001B[0m                                 Traceback (most recent call last)",
      "\u001B[1;32m<ipython-input-18-8c30f33ebc9d>\u001B[0m in \u001B[0;36m<module>\u001B[1;34m\u001B[0m\n\u001B[1;32m----> 1\u001B[1;33m \u001B[1;32mfor\u001B[0m \u001B[0mspan\u001B[0m \u001B[1;32min\u001B[0m \u001B[0mdoc\u001B[0m\u001B[1;33m.\u001B[0m\u001B[0mspans\u001B[0m\u001B[1;33m:\u001B[0m\u001B[1;33m\u001B[0m\u001B[1;33m\u001B[0m\u001B[0m\n\u001B[0m\u001B[0;32m      2\u001B[0m     \u001B[0mspan\u001B[0m\u001B[1;33m.\u001B[0m\u001B[0mnormalize\u001B[0m\u001B[1;33m(\u001B[0m\u001B[0mmorph_vocab\u001B[0m\u001B[1;33m)\u001B[0m\u001B[1;33m\u001B[0m\u001B[1;33m\u001B[0m\u001B[0m\n\u001B[0;32m      3\u001B[0m \u001B[1;33m\u001B[0m\u001B[0m\n\u001B[0;32m      4\u001B[0m \u001B[1;33m{\u001B[0m\u001B[0m_\u001B[0m\u001B[1;33m.\u001B[0m\u001B[0mtext\u001B[0m\u001B[1;33m:\u001B[0m \u001B[0m_\u001B[0m\u001B[1;33m.\u001B[0m\u001B[0mnormal\u001B[0m \u001B[1;32mfor\u001B[0m \u001B[0m_\u001B[0m \u001B[1;32min\u001B[0m \u001B[0mdoc\u001B[0m\u001B[1;33m.\u001B[0m\u001B[0mspans\u001B[0m\u001B[1;33m}\u001B[0m\u001B[1;33m\u001B[0m\u001B[1;33m\u001B[0m\u001B[0m\n",
      "\u001B[1;31mTypeError\u001B[0m: 'NoneType' object is not iterable"
     ]
    }
   ],
   "source": [
    "for span in doc.spans:\n",
    "    span.normalize(morph_vocab)\n",
    "\n",
    "{_.text: _.normal for _ in doc.spans}"
   ],
   "metadata": {
    "collapsed": false,
    "pycharm": {
     "name": "#%%\n"
    }
   }
  },
  {
   "cell_type": "code",
   "execution_count": 2,
   "outputs": [],
   "source": [
    "emb = NewsEmbedding()\n",
    "segmenter = Segmenter()\n",
    "morph_vocab = MorphVocab()\n",
    "ner_tagger = NewsNERTagger(emb)\n",
    "names_extractor = NamesExtractor(morph_vocab)"
   ],
   "metadata": {
    "collapsed": false,
    "pycharm": {
     "name": "#%%\n"
    }
   }
  },
  {
   "cell_type": "code",
   "execution_count": 31,
   "outputs": [],
   "source": [
    "text = 'Посол Израиля на Украине Йоэль Лион признался, что пришел в шок, узнав о решении властей Львовской области объявить 2019 год годом лидера запрещенной в России Организации украинских националистов (ОУН) Степана Бандеры...'\n",
    "# text='18 января 2022 года я впервые попробовал сесть за руль'\n",
    "# text='Перейдем к разделу обработки цифровых снимков микроструктур исследуемого сплава. Существует множество алгоритмов извлечение признаков с растровых изображений. Рассмотрим алгоритмы компьютерного зрения, при помощи которых можно собрать <<геометрию>> (углы сторон, ширина, высота, кластеры объектов и тд).'\n",
    "\n",
    "doc = Doc(text)\n",
    "\n",
    "doc.segment(segmenter)\n",
    "\n",
    "doc.tag_ner(ner_tagger)\n",
    "\n",
    "for span in doc.spans:\n",
    "    span.normalize(morph_vocab)\n"
   ],
   "metadata": {
    "collapsed": false,
    "pycharm": {
     "name": "#%%\n"
    }
   }
  },
  {
   "cell_type": "code",
   "execution_count": 32,
   "outputs": [
    {
     "data": {
      "text/plain": "[DocSent(stop=220, text='Посол Израиля на Украине Йоэль Лион признался, чт..., tokens=[...], spans=[...])]"
     },
     "execution_count": 32,
     "metadata": {},
     "output_type": "execute_result"
    }
   ],
   "source": [
    "doc.sents"
   ],
   "metadata": {
    "collapsed": false,
    "pycharm": {
     "name": "#%%\n"
    }
   }
  },
  {
   "cell_type": "code",
   "execution_count": 33,
   "outputs": [
    {
     "data": {
      "text/plain": "{'start': 0,\n 'stop': 220,\n 'text': 'Посол Израиля на Украине Йоэль Лион признался, что пришел в шок, узнав о решении властей Львовской области объявить 2019 год годом лидера запрещенной в России Организации украинских националистов (ОУН) Степана Бандеры...',\n 'tokens': [DocToken(stop=5, text='Посол'),\n  DocToken(start=6, stop=13, text='Израиля'),\n  DocToken(start=14, stop=16, text='на'),\n  DocToken(start=17, stop=24, text='Украине'),\n  DocToken(start=25, stop=30, text='Йоэль'),\n  DocToken(start=31, stop=35, text='Лион'),\n  DocToken(start=36, stop=45, text='признался'),\n  DocToken(start=45, stop=46, text=','),\n  DocToken(start=47, stop=50, text='что'),\n  DocToken(start=51, stop=57, text='пришел'),\n  DocToken(start=58, stop=59, text='в'),\n  DocToken(start=60, stop=63, text='шок'),\n  DocToken(start=63, stop=64, text=','),\n  DocToken(start=65, stop=70, text='узнав'),\n  DocToken(start=71, stop=72, text='о'),\n  DocToken(start=73, stop=80, text='решении'),\n  DocToken(start=81, stop=88, text='властей'),\n  DocToken(start=89, stop=98, text='Львовской'),\n  DocToken(start=99, stop=106, text='области'),\n  DocToken(start=107, stop=115, text='объявить'),\n  DocToken(start=116, stop=120, text='2019'),\n  DocToken(start=121, stop=124, text='год'),\n  DocToken(start=125, stop=130, text='годом'),\n  DocToken(start=131, stop=137, text='лидера'),\n  DocToken(start=138, stop=149, text='запрещенной'),\n  DocToken(start=150, stop=151, text='в'),\n  DocToken(start=152, stop=158, text='России'),\n  DocToken(start=159, stop=170, text='Организации'),\n  DocToken(start=171, stop=181, text='украинских'),\n  DocToken(start=182, stop=195, text='националистов'),\n  DocToken(start=196, stop=197, text='('),\n  DocToken(start=197, stop=200, text='ОУН'),\n  DocToken(start=200, stop=201, text=')'),\n  DocToken(start=202, stop=209, text='Степана'),\n  DocToken(start=210, stop=217, text='Бандеры'),\n  DocToken(start=217, stop=220, text='...')],\n 'spans': [DocSpan(start=6, stop=13, type='LOC', text='Израиля', tokens=[...], normal='Израиля'),\n  DocSpan(start=17, stop=24, type='LOC', text='Украине', tokens=[...], normal='Украине'),\n  DocSpan(start=25, stop=35, type='PER', text='Йоэль Лион', tokens=[...], normal='Йоэль Лион'),\n  DocSpan(start=89, stop=106, type='LOC', text='Львовской области', tokens=[...], normal='Львовской области'),\n  DocSpan(start=152, stop=158, type='LOC', text='России', tokens=[...], normal='России'),\n  DocSpan(start=159, stop=201, type='ORG', text='Организации украинских националистов (ОУН)', tokens=[...], normal='Организации украинских националистов (ОУН)'),\n  DocSpan(start=202, stop=217, type='PER', text='Степана Бандеры', tokens=[...], normal='Степана Бандеры')]}"
     },
     "execution_count": 33,
     "metadata": {},
     "output_type": "execute_result"
    }
   ],
   "source": [
    "doc.sents[0].__dict__"
   ],
   "metadata": {
    "collapsed": false,
    "pycharm": {
     "name": "#%%\n"
    }
   }
  },
  {
   "cell_type": "code",
   "execution_count": 37,
   "outputs": [
    {
     "data": {
      "text/plain": "{}"
     },
     "execution_count": 37,
     "metadata": {},
     "output_type": "execute_result"
    }
   ],
   "source": [
    "\n",
    "for span in doc.spans:\n",
    "    if span.type == PER:\n",
    "        span.extract_fact(names_extractor)\n",
    "    # print(span.fact)\n",
    "\n",
    "{_.normal: _.fact.as_dict for _ in doc.spans if _.fact}\n",
    "# {_.normal: _.text for _ in doc.spans}"
   ],
   "metadata": {
    "collapsed": false,
    "pycharm": {
     "name": "#%%\n"
    }
   }
  }
 ],
 "metadata": {
  "kernelspec": {
   "name": "torch",
   "language": "python",
   "display_name": "torch"
  },
  "language_info": {
   "codemirror_mode": {
    "name": "ipython",
    "version": 2
   },
   "file_extension": ".py",
   "mimetype": "text/x-python",
   "name": "python",
   "nbconvert_exporter": "python",
   "pygments_lexer": "ipython2",
   "version": "2.7.6"
  }
 },
 "nbformat": 4,
 "nbformat_minor": 0
}