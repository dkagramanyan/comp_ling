{
 "cells": [
  {
   "cell_type": "code",
   "execution_count": 113,
   "metadata": {
    "ExecuteTime": {
     "end_time": "2023-08-06T21:19:03.668942Z",
     "start_time": "2023-08-06T21:19:03.659282Z"
    },
    "collapsed": true
   },
   "outputs": [],
   "source": [
    "import numpy as np\n",
    "import os\n",
    "from matplotlib import pyplot as plt\n",
    "import glob\n",
    "from collections import Counter\n",
    "from sklearn.linear_model import LinearRegression\n",
    "# from lmfit.models import Model\n",
    "import re\n",
    "from sklearn.model_selection import train_test_split\n",
    "\n",
    "import pyconll\n",
    "\n",
    "from tqdm.notebook import tqdm\n",
    "\n",
    "from sklearn.ensemble import RandomForestClassifier\n",
    "from sklearn.datasets import make_classification\n",
    "\n",
    "from sklearn.metrics import confusion_matrix\n",
    "\n",
    "import pandas as pd\n",
    "\n",
    "from numba import jit, njit\n",
    "import re\n",
    "\n",
    "import joblib"
   ]
  },
  {
   "cell_type": "code",
   "execution_count": 11,
   "metadata": {
    "ExecuteTime": {
     "end_time": "2023-08-06T17:07:22.188167Z",
     "start_time": "2023-08-06T17:07:22.172734Z"
    },
    "collapsed": false
   },
   "outputs": [
    {
     "ename": "FileNotFoundError",
     "evalue": "[Errno 2] No such file or directory: 'eastern/dump_wiki_hy.txt'",
     "output_type": "error",
     "traceback": [
      "\u001b[1;31m---------------------------------------------------------------------------\u001b[0m",
      "\u001b[1;31mFileNotFoundError\u001b[0m                         Traceback (most recent call last)",
      "Cell \u001b[1;32mIn[11], line 2\u001b[0m\n\u001b[0;32m      1\u001b[0m \u001b[38;5;28;01mwith\u001b[39;00m \u001b[38;5;28mopen\u001b[39m(\u001b[38;5;124m'\u001b[39m\u001b[38;5;124mhy_wiki_10\u001b[39m\u001b[38;5;124m%\u001b[39m\u001b[38;5;124m.txt\u001b[39m\u001b[38;5;124m'\u001b[39m,\u001b[38;5;124m'\u001b[39m\u001b[38;5;124mw\u001b[39m\u001b[38;5;124m'\u001b[39m,encoding\u001b[38;5;241m=\u001b[39m\u001b[38;5;124m'\u001b[39m\u001b[38;5;124mutf-8\u001b[39m\u001b[38;5;124m'\u001b[39m) \u001b[38;5;28;01mas\u001b[39;00m f:\n\u001b[1;32m----> 2\u001b[0m     file\u001b[38;5;241m=\u001b[39m\u001b[38;5;28;43mopen\u001b[39;49m\u001b[43m(\u001b[49m\u001b[38;5;124;43m'\u001b[39;49m\u001b[38;5;124;43meastern/dump_wiki_hy.txt\u001b[39;49m\u001b[38;5;124;43m'\u001b[39;49m\u001b[43m,\u001b[49m\u001b[38;5;124;43m'\u001b[39;49m\u001b[38;5;124;43mr\u001b[39;49m\u001b[38;5;124;43m'\u001b[39;49m\u001b[43m,\u001b[49m\u001b[43mencoding\u001b[49m\u001b[38;5;241;43m=\u001b[39;49m\u001b[38;5;124;43m'\u001b[39;49m\u001b[38;5;124;43mutf-8\u001b[39;49m\u001b[38;5;124;43m'\u001b[39;49m\u001b[43m)\u001b[49m\u001b[38;5;241m.\u001b[39mreadlines()\n\u001b[0;32m      3\u001b[0m     normed_txt, x_test\u001b[38;5;241m=\u001b[39m train_test_split(file, test_size\u001b[38;5;241m=\u001b[39m\u001b[38;5;241m0.9\u001b[39m, random_state\u001b[38;5;241m=\u001b[39m\u001b[38;5;241m42\u001b[39m)\n\u001b[0;32m      4\u001b[0m     f\u001b[38;5;241m.\u001b[39mwritelines(normed_txt)\n",
      "File \u001b[1;32mC:\\anaconda3\\envs\\torch\\lib\\site-packages\\IPython\\core\\interactiveshell.py:284\u001b[0m, in \u001b[0;36m_modified_open\u001b[1;34m(file, *args, **kwargs)\u001b[0m\n\u001b[0;32m    277\u001b[0m \u001b[38;5;28;01mif\u001b[39;00m file \u001b[38;5;129;01min\u001b[39;00m {\u001b[38;5;241m0\u001b[39m, \u001b[38;5;241m1\u001b[39m, \u001b[38;5;241m2\u001b[39m}:\n\u001b[0;32m    278\u001b[0m     \u001b[38;5;28;01mraise\u001b[39;00m \u001b[38;5;167;01mValueError\u001b[39;00m(\n\u001b[0;32m    279\u001b[0m         \u001b[38;5;124mf\u001b[39m\u001b[38;5;124m\"\u001b[39m\u001b[38;5;124mIPython won\u001b[39m\u001b[38;5;124m'\u001b[39m\u001b[38;5;124mt let you open fd=\u001b[39m\u001b[38;5;132;01m{\u001b[39;00mfile\u001b[38;5;132;01m}\u001b[39;00m\u001b[38;5;124m by default \u001b[39m\u001b[38;5;124m\"\u001b[39m\n\u001b[0;32m    280\u001b[0m         \u001b[38;5;124m\"\u001b[39m\u001b[38;5;124mas it is likely to crash IPython. If you know what you are doing, \u001b[39m\u001b[38;5;124m\"\u001b[39m\n\u001b[0;32m    281\u001b[0m         \u001b[38;5;124m\"\u001b[39m\u001b[38;5;124myou can use builtins\u001b[39m\u001b[38;5;124m'\u001b[39m\u001b[38;5;124m open.\u001b[39m\u001b[38;5;124m\"\u001b[39m\n\u001b[0;32m    282\u001b[0m     )\n\u001b[1;32m--> 284\u001b[0m \u001b[38;5;28;01mreturn\u001b[39;00m io_open(file, \u001b[38;5;241m*\u001b[39margs, \u001b[38;5;241m*\u001b[39m\u001b[38;5;241m*\u001b[39mkwargs)\n",
      "\u001b[1;31mFileNotFoundError\u001b[0m: [Errno 2] No such file or directory: 'eastern/dump_wiki_hy.txt'"
     ]
    }
   ],
   "source": [
    "# take only 10% of hy wikipedia\n",
    "with open('hy_wiki_10%.txt','w',encoding='utf-8') as f:\n",
    "    file=open('eastern/dump_wiki_hy.txt','r',encoding='utf-8').readlines()\n",
    "    normed_txt, x_test= train_test_split(file, test_size=0.9, random_state=42)\n",
    "    f.writelines(normed_txt)"
   ]
  },
  {
   "cell_type": "code",
   "execution_count": null,
   "metadata": {
    "collapsed": false
   },
   "outputs": [],
   "source": [
    "# convert UD to txt\n",
    "my_conll_file_location = 'hy_bsut-ud-train.conllu'\n",
    "train = pyconll.load_from_file(my_conll_file_location)\n",
    "\n",
    "with open('ud_eastern.txt', 'w') as f:\n",
    "    for sentence in train:\n",
    "        # Do work within loops\n",
    "        f.write(sentence.text + '\\n')"
   ]
  },
  {
   "cell_type": "markdown",
   "metadata": {
    "collapsed": false
   },
   "source": [
    "## Stop-words"
   ]
  },
  {
   "cell_type": "code",
   "execution_count": 6,
   "metadata": {
    "ExecuteTime": {
     "end_time": "2023-08-06T19:00:43.283593Z",
     "start_time": "2023-08-06T19:00:43.259270Z"
    },
    "collapsed": false
   },
   "outputs": [],
   "source": [
    "def preprocess(text):\n",
    "    # punctuation=['.','-',',','!','?','(','—',')','՞','՛','։','՝','՜','’','«','»','*','\\n','=',':','[',']','/',';','․','`','\\t','%','$','\\xa0','\\r','_','●','0','1','2','3','4','5','6','7','8','9']\n",
    "    punctuation = ['՜', ',', '.', '0', '1', '2', '3', '4', '5', '6', '7', '8', '9', ':', '-', '—', '։','՞']\n",
    "    text=text.lower()\n",
    "\n",
    "    for spaced in punctuation:\n",
    "        text = text.replace(spaced, '')\n",
    "\n",
    "    text = re.sub(\" +\", \" \", text)\n",
    "\n",
    "    txt = text.replace('\\n', '')\n",
    "    txt = txt.split(' ')\n",
    "    txt = [t for t in txt if t != '']\n",
    "    return txt"
   ]
  },
  {
   "cell_type": "code",
   "execution_count": 4,
   "metadata": {
    "ExecuteTime": {
     "end_time": "2023-08-06T18:55:58.225151Z",
     "start_time": "2023-08-06T18:55:44.959975Z"
    },
    "collapsed": false
   },
   "outputs": [
    {
     "data": {
      "application/json": {
       "ascii": false,
       "bar_format": null,
       "colour": null,
       "elapsed": 0.011050224304199219,
       "initial": 0,
       "n": 0,
       "ncols": null,
       "nrows": 29,
       "postfix": null,
       "prefix": "",
       "rate": null,
       "total": 3,
       "unit": "it",
       "unit_divisor": 1000,
       "unit_scale": false
      },
      "application/vnd.jupyter.widget-view+json": {
       "model_id": "e85d8d534f044ad89797fa659ee8a6ed",
       "version_major": 2,
       "version_minor": 0
      },
      "text/plain": [
       "  0%|          | 0/3 [00:00<?, ?it/s]"
      ]
     },
     "metadata": {},
     "output_type": "display_data"
    },
    {
     "name": "stdout",
     "output_type": "stream",
     "text": [
      "8286090\n",
      "4648167\n",
      "785606\n",
      "CPU times: total: 13.2 s\n",
      "Wall time: 13.2 s\n"
     ]
    }
   ],
   "source": [
    "%%time\n",
    "folders = ['eastern', 'western', 'grabar']\n",
    "worlds_list_dict = {}\n",
    "\n",
    "for folder in tqdm(folders):\n",
    "    files_paths = glob.glob(folder + '/*.txt')\n",
    "    files = [' '.join(open(path, 'r', encoding='utf8').readlines()) for path in files_paths]\n",
    "\n",
    "    words_list = []\n",
    "    for text in files:\n",
    "        words_list.extend(preprocess(text))\n",
    "\n",
    "    print(words_list.__len__())\n",
    "    worlds_list_dict[folder] = Counter(words_list)\n",
    "    \n",
    "    with open(f'stop_{folder}.txt', 'w', encoding=\"utf-8\") as f:\n",
    "        for i, line in enumerate(worlds_list_dict[folder].most_common()):\n",
    "            if line[1] >= 150:\n",
    "                f.write(str(line[0]) + '\\n')\n",
    "            else:\n",
    "                break\n",
    "                "
   ]
  },
  {
   "cell_type": "markdown",
   "metadata": {
    "collapsed": false
   },
   "source": [
    "## Load and split data"
   ]
  },
  {
   "cell_type": "code",
   "execution_count": 130,
   "metadata": {
    "ExecuteTime": {
     "end_time": "2023-08-06T21:38:58.233751Z",
     "start_time": "2023-08-06T21:38:57.167838Z"
    },
    "collapsed": false
   },
   "outputs": [
    {
     "name": "stdout",
     "output_type": "stream",
     "text": [
      "CPU times: total: 1.05 s\n",
      "Wall time: 1.03 s\n"
     ]
    }
   ],
   "source": [
    "%%time\n",
    "folders = ['eastern', 'western', 'grabar']\n",
    "files_dict = {}\n",
    "\n",
    "for folder in folders:\n",
    "    files_paths = glob.glob(folder + '/*.txt')\n",
    "    files = [' '.join(open(path, 'r', encoding='utf8').readlines()) for path in files_paths]\n",
    "    files_dict[folder] = files"
   ]
  },
  {
   "cell_type": "code",
   "execution_count": 135,
   "metadata": {
    "ExecuteTime": {
     "end_time": "2023-08-06T21:42:12.619944Z",
     "start_time": "2023-08-06T21:41:35.223362Z"
    },
    "collapsed": false
   },
   "outputs": [
    {
     "data": {
      "application/json": {
       "ascii": false,
       "bar_format": null,
       "colour": null,
       "elapsed": 0.00644683837890625,
       "initial": 0,
       "n": 0,
       "ncols": null,
       "nrows": 29,
       "postfix": null,
       "prefix": "",
       "rate": null,
       "total": null,
       "unit": "it",
       "unit_divisor": 1000,
       "unit_scale": false
      },
      "application/vnd.jupyter.widget-view+json": {
       "model_id": "b02068c8994540948eecbb901064f4ae",
       "version_major": 2,
       "version_minor": 0
      },
      "text/plain": [
       "0it [00:00, ?it/s]"
      ]
     },
     "metadata": {},
     "output_type": "display_data"
    },
    {
     "data": {
      "application/json": {
       "ascii": false,
       "bar_format": null,
       "colour": null,
       "elapsed": 0.005975484848022461,
       "initial": 0,
       "n": 0,
       "ncols": null,
       "nrows": 29,
       "postfix": null,
       "prefix": "",
       "rate": null,
       "total": 7,
       "unit": "it",
       "unit_divisor": 1000,
       "unit_scale": false
      },
      "application/vnd.jupyter.widget-view+json": {
       "model_id": "38dae825033f45a791e8cff53d96ccf4",
       "version_major": 2,
       "version_minor": 0
      },
      "text/plain": [
       "  0%|          | 0/7 [00:00<?, ?it/s]"
      ]
     },
     "metadata": {},
     "output_type": "display_data"
    },
    {
     "data": {
      "application/json": {
       "ascii": false,
       "bar_format": null,
       "colour": null,
       "elapsed": 0.11070394515991211,
       "initial": 0,
       "n": 0,
       "ncols": null,
       "nrows": 29,
       "postfix": null,
       "prefix": "",
       "rate": null,
       "total": 6,
       "unit": "it",
       "unit_divisor": 1000,
       "unit_scale": false
      },
      "application/vnd.jupyter.widget-view+json": {
       "model_id": "25ca87ce40304706b98f9ee0e60f62f2",
       "version_major": 2,
       "version_minor": 0
      },
      "text/plain": [
       "  0%|          | 0/6 [00:00<?, ?it/s]"
      ]
     },
     "metadata": {},
     "output_type": "display_data"
    },
    {
     "data": {
      "application/json": {
       "ascii": false,
       "bar_format": null,
       "colour": null,
       "elapsed": 0.005980491638183594,
       "initial": 0,
       "n": 0,
       "ncols": null,
       "nrows": 29,
       "postfix": null,
       "prefix": "",
       "rate": null,
       "total": 4,
       "unit": "it",
       "unit_divisor": 1000,
       "unit_scale": false
      },
      "application/vnd.jupyter.widget-view+json": {
       "model_id": "8801a04088aa40b18d6a71b19dc485cc",
       "version_major": 2,
       "version_minor": 0
      },
      "text/plain": [
       "  0%|          | 0/4 [00:00<?, ?it/s]"
      ]
     },
     "metadata": {},
     "output_type": "display_data"
    },
    {
     "name": "stdout",
     "output_type": "stream",
     "text": [
      "39277\n",
      "39277\n",
      "39282\n",
      "CPU times: total: 35.9 s\n",
      "Wall time: 37.4 s\n"
     ]
    }
   ],
   "source": [
    "%%time\n",
    "\n",
    "preprocess_files_dict = {}\n",
    "batch_len = 20\n",
    "\n",
    "folders = ['eastern', 'western', 'grabar']\n",
    "tokens_number = np.array([8286090, 4648167, 785605])\n",
    "\n",
    "tokens_fraction=np.min(tokens_number)/tokens_number\n",
    "\n",
    "for i,folder in tqdm(enumerate(folders)):\n",
    "    files = files_dict[folder]\n",
    "    batches_list = []\n",
    "\n",
    "    for file in tqdm(files):\n",
    "        words = preprocess(file)\n",
    "        batches = np.array_split(words, np.ceil(words.__len__() / batch_len))\n",
    "        if i!=2:\n",
    "            normed_batches, x_test= train_test_split(batches, test_size=1-tokens_fraction[i], random_state=42)\n",
    "        else:\n",
    "            normed_batches=batches\n",
    "        batches_list.extend(normed_batches)\n",
    "        \n",
    "    preprocess_files_dict[folder] = batches_list\n",
    "\n",
    "dataset_text = []\n",
    "dataset_labels = []\n",
    "    \n",
    "for i, folder in enumerate(folders):\n",
    "    text_batches = preprocess_files_dict[folder]\n",
    "    dataset_text.extend(text_batches)\n",
    "    print(len(text_batches))\n",
    "    dataset_labels.extend(np.full(len(text_batches), i))\n",
    "    \n",
    "df=pd.DataFrame({'text':dataset_text, 'labels':dataset_labels})\n",
    "df.to_csv(f'mwa_mea_grabar_{batch_len}.csv',index=False)\n"
   ]
  },
  {
   "cell_type": "markdown",
   "metadata": {
    "collapsed": false
   },
   "source": [
    "## Lexical (stop-words) descriptors"
   ]
  },
  {
   "cell_type": "code",
   "execution_count": 136,
   "metadata": {
    "ExecuteTime": {
     "end_time": "2023-08-06T21:42:12.655827Z",
     "start_time": "2023-08-06T21:42:12.644792Z"
    },
    "collapsed": false
   },
   "outputs": [],
   "source": [
    "western_stop = ['ենք', 'էի', 'թ', 'ին', 'մենք', 'որոնք', 'պիտի', 'և', 'որպեսզի', 'վրայ', 'կ՚', 'կը', 'մը', 'մըն',\n",
    "                'անոր', 'ալ', 'ան', 'քեզ', 'եթէ', 'թէ', 'որպէս']\n",
    "\n",
    "grabar_stop = ['դու', 'եք', 'ըստ', 'նա', 'պիտի', 'վրայ', 'զի', 'ընդ', 'քո', 'քեզ', 'եթէ', 'թէ', 'որպէս']\n",
    "\n",
    "eastern_stop = ['դու', 'ենք', 'եք', 'էի', 'ըստ', 'ին', 'հետո', 'մենք', 'մեջ', 'նա', 'նաև', 'նրա', 'նրանք', 'որը',\n",
    "                'որոնք', 'որպես', 'ում', 'վրա', 'և', 'որպեսզի']\n",
    "\n",
    "western_stop = set(western_stop)\n",
    "grabar_stop = set(grabar_stop)\n",
    "eastern_stop = set(eastern_stop)\n",
    "\n",
    "def get_lexical_desc(words):\n",
    "    intersect_western = len(set(words) & western_stop) / len(western_stop)\n",
    "    intersect_grabar = len(set(words) & grabar_stop) / len(grabar_stop)\n",
    "    intersect_eastern = len(set(words) & eastern_stop) // len(eastern_stop)\n",
    "\n",
    "    return intersect_western, intersect_grabar, intersect_eastern"
   ]
  },
  {
   "cell_type": "markdown",
   "metadata": {
    "collapsed": false
   },
   "source": [
    "## Morphemic descriptors"
   ]
  },
  {
   "cell_type": "code",
   "execution_count": 137,
   "metadata": {
    "ExecuteTime": {
     "end_time": "2023-08-06T21:42:12.667540Z",
     "start_time": "2023-08-06T21:42:12.662676Z"
    },
    "collapsed": false
   },
   "outputs": [],
   "source": [
    "grabar_suffixes = ['աւք', 'եալ', 'եան', 'իւք', 'ոյց', 'ովք', 'ուց', 'ուցան']\n",
    "grabar_prefixes = ['ապա', 'արտ', 'բաղ', 'բաղա', 'դեր', 'ենթ', 'ենթա', 'ընթա', ' համ', 'համա', 'հան', 'հոմ', 'հոմա',\n",
    "                   'տար', 'տարա']\n",
    "\n",
    "eastern_suffixes = ['աբար', 'ագին', 'ագույն', 'ածո', 'ածու', 'ական', 'ակերտ', 'ային', 'անակ', 'անի', 'անոց', 'անք',\n",
    "                    'ապան', 'ապանակ', 'ապատ', 'ապես', 'աստան', 'ավետ', 'ավուն', 'արան', 'արար', 'արեն', 'արք', 'ացի',\n",
    "                    'ացն-', 'ացու', 'բան', 'բար', 'գին', 'գույն', 'եղեն', 'ենի', 'երեն', 'երորդ', 'եցն-', 'լիկ', 'կերտ',\n",
    "                    'կոտ', 'մունք ', 'յալ', 'յակ', 'յան', 'յանց', 'յուն նախա-', 'ներ', 'նոց', 'ոնք', 'ովին', 'որդ',\n",
    "                    'որեն', 'ոցի', 'ուք', 'պան', 'պանակ', 'ստան', 'ված', 'վածք', 'ավոր', 'վոր', 'ություն', 'ուլ', 'ուկ',\n",
    "                    'ուհի', 'ում', 'ույթ', 'ույր', 'ուն', 'ուտ', 'ուրդ', 'ուց']\n",
    "\n",
    "eastern_prefixes = ['ամենա', 'այսր', 'անդր', 'ապա', 'ավտո', 'արտ', 'արտա', 'բենզա', ', գեր', 'գերա', 'դեր', 'ենթա',\n",
    "                    'եվրա', ' էլեկտրա', 'թեր', 'թերա', 'կենս', 'կինո', 'հակ', 'հակա', 'համ', 'համա', 'հար', 'հարա',\n",
    "                    'հեռա', 'հեռուստա', 'հոմա', 'մակ', 'մակրո', 'միկրո', 'միջ', 'նախ', 'ներ', 'ստոր', 'վեր', 'վերա',\n",
    "                    'տար', 'տարա', 'փոխ', 'քառ', 'քառա']\n",
    "\n",
    "western_reform = ['իլ', 'իուն', 'եան', 'յ', 'օ', 'է', 'յ', 'վո', 'ոյ', 'եա', 'եօ', 'իւ', 'ու', 'ւ,' 'յե', 'եյ', 'զի',\n",
    "                  'եւ', 'ել', 'յուն', 'յան', 'ում', 'ո', 'ե', 'հ', 'ո', 'ույ', 'յա', 'յո', 'յու', 'վ', 'ե', ]\n",
    "\n",
    "morphems=[]\n",
    "morphems.extend(grabar_suffixes)\n",
    "morphems.extend(grabar_prefixes)\n",
    "morphems.extend(eastern_suffixes)\n",
    "morphems.extend(eastern_prefixes)\n",
    "morphems.extend(western_reform)\n",
    "\n",
    "# @jit(nopython=True)\n",
    "# @njit\n",
    "def get_morphemic_desc(words,morphems ):\n",
    "    res=[]\n",
    "    for morphema in morphems:\n",
    "        positions = []\n",
    "        for word in words:\n",
    "            pos = word.find(morphema)\n",
    "            if pos != -1:\n",
    "                positions.append((pos+1)/len(word))\n",
    "        # positions=np.array(positions, dtype=np.float32)\n",
    "        if len(positions)==0:\n",
    "\n",
    "            res.append(0)\n",
    "        else:\n",
    "            # std=np.std(positions)\n",
    "            res.append(np.mean(positions))\n",
    "            # res.append(sum(positions)/len(positions))\n",
    "\n",
    "    return res"
   ]
  },
  {
   "cell_type": "markdown",
   "metadata": {
    "collapsed": false
   },
   "source": [
    "## Create dataset"
   ]
  },
  {
   "cell_type": "code",
   "execution_count": 138,
   "metadata": {
    "ExecuteTime": {
     "end_time": "2023-08-06T21:47:31.143344Z",
     "start_time": "2023-08-06T21:42:12.668794Z"
    },
    "collapsed": false
   },
   "outputs": [
    {
     "data": {
      "application/json": {
       "ascii": false,
       "bar_format": null,
       "colour": null,
       "elapsed": 0.005984067916870117,
       "initial": 0,
       "n": 0,
       "ncols": null,
       "nrows": 29,
       "postfix": null,
       "prefix": "",
       "rate": null,
       "total": 117836,
       "unit": "it",
       "unit_divisor": 1000,
       "unit_scale": false
      },
      "application/vnd.jupyter.widget-view+json": {
       "model_id": "0c9ec0b263164afbb4163775a28e9423",
       "version_major": 2,
       "version_minor": 0
      },
      "text/plain": [
       "  0%|          | 0/117836 [00:00<?, ?it/s]"
      ]
     },
     "metadata": {},
     "output_type": "display_data"
    }
   ],
   "source": [
    "dataset_desc_morphemic=[get_morphemic_desc(words,morphems) for words in tqdm(dataset_text)]"
   ]
  },
  {
   "cell_type": "code",
   "execution_count": 139,
   "metadata": {
    "ExecuteTime": {
     "end_time": "2023-08-06T21:47:36.146868Z",
     "start_time": "2023-08-06T21:47:31.143184Z"
    },
    "collapsed": false
   },
   "outputs": [
    {
     "data": {
      "application/json": {
       "ascii": false,
       "bar_format": null,
       "colour": null,
       "elapsed": 0.005978822708129883,
       "initial": 0,
       "n": 0,
       "ncols": null,
       "nrows": 29,
       "postfix": null,
       "prefix": "",
       "rate": null,
       "total": 117836,
       "unit": "it",
       "unit_divisor": 1000,
       "unit_scale": false
      },
      "application/vnd.jupyter.widget-view+json": {
       "model_id": "9dfdbfb3b4c94871ac407e1091cdbaba",
       "version_major": 2,
       "version_minor": 0
      },
      "text/plain": [
       "  0%|          | 0/117836 [00:00<?, ?it/s]"
      ]
     },
     "metadata": {},
     "output_type": "display_data"
    }
   ],
   "source": [
    "dataset_desc_lexical=[get_lexical_desc(words) for words in tqdm(dataset_text)]"
   ]
  },
  {
   "cell_type": "code",
   "execution_count": 142,
   "metadata": {
    "ExecuteTime": {
     "end_time": "2023-08-06T21:51:24.831253Z",
     "start_time": "2023-08-06T21:51:24.755902Z"
    },
    "collapsed": false
   },
   "outputs": [],
   "source": [
    "dataset_desc_morphemic=np.array(dataset_desc_morphemic)\n",
    "dataset_desc_lexical=np.array(dataset_desc_lexical)\n",
    "dataset_desc_morphemic=np.swapaxes(dataset_desc_morphemic,0,1)"
   ]
  },
  {
   "cell_type": "code",
   "execution_count": 143,
   "metadata": {
    "ExecuteTime": {
     "end_time": "2023-08-06T21:51:25.898649Z",
     "start_time": "2023-08-06T21:51:25.835441Z"
    },
    "collapsed": false
   },
   "outputs": [
    {
     "data": {
      "text/plain": [
       "(117836, 168)"
      ]
     },
     "execution_count": 143,
     "metadata": {},
     "output_type": "execute_result"
    }
   ],
   "source": [
    "dataset=np.concatenate([dataset_desc_morphemic,dataset_desc_lexical],axis=1)\n",
    "dataset.shape"
   ]
  },
  {
   "cell_type": "code",
   "execution_count": 149,
   "metadata": {
    "ExecuteTime": {
     "end_time": "2023-08-06T21:57:01.233990Z",
     "start_time": "2023-08-06T21:57:01.217308Z"
    },
    "collapsed": false
   },
   "outputs": [
    {
     "data": {
      "text/plain": [
       "(117836, 168)"
      ]
     },
     "execution_count": 149,
     "metadata": {},
     "output_type": "execute_result"
    }
   ],
   "source": [
    "dataset.shape"
   ]
  },
  {
   "cell_type": "code",
   "execution_count": 144,
   "metadata": {
    "ExecuteTime": {
     "end_time": "2023-08-06T21:51:27.277395Z",
     "start_time": "2023-08-06T21:51:27.185195Z"
    },
    "collapsed": false
   },
   "outputs": [],
   "source": [
    "x_train, x_test, y_train, y_test = train_test_split(dataset, dataset_labels, test_size=0.2, random_state=42)"
   ]
  },
  {
   "cell_type": "markdown",
   "metadata": {
    "collapsed": false
   },
   "source": [
    "## Create RTF model"
   ]
  },
  {
   "cell_type": "code",
   "execution_count": 145,
   "metadata": {
    "ExecuteTime": {
     "end_time": "2023-08-06T21:52:04.256834Z",
     "start_time": "2023-08-06T21:51:28.998727Z"
    },
    "collapsed": false
   },
   "outputs": [
    {
     "name": "stderr",
     "output_type": "stream",
     "text": [
      "[Parallel(n_jobs=1)]: Done  49 tasks      | elapsed:   17.2s\n"
     ]
    },
    {
     "data": {
      "text/html": [
       "<style>#sk-container-id-2 {color: black;}#sk-container-id-2 pre{padding: 0;}#sk-container-id-2 div.sk-toggleable {background-color: white;}#sk-container-id-2 label.sk-toggleable__label {cursor: pointer;display: block;width: 100%;margin-bottom: 0;padding: 0.3em;box-sizing: border-box;text-align: center;}#sk-container-id-2 label.sk-toggleable__label-arrow:before {content: \"▸\";float: left;margin-right: 0.25em;color: #696969;}#sk-container-id-2 label.sk-toggleable__label-arrow:hover:before {color: black;}#sk-container-id-2 div.sk-estimator:hover label.sk-toggleable__label-arrow:before {color: black;}#sk-container-id-2 div.sk-toggleable__content {max-height: 0;max-width: 0;overflow: hidden;text-align: left;background-color: #f0f8ff;}#sk-container-id-2 div.sk-toggleable__content pre {margin: 0.2em;color: black;border-radius: 0.25em;background-color: #f0f8ff;}#sk-container-id-2 input.sk-toggleable__control:checked~div.sk-toggleable__content {max-height: 200px;max-width: 100%;overflow: auto;}#sk-container-id-2 input.sk-toggleable__control:checked~label.sk-toggleable__label-arrow:before {content: \"▾\";}#sk-container-id-2 div.sk-estimator input.sk-toggleable__control:checked~label.sk-toggleable__label {background-color: #d4ebff;}#sk-container-id-2 div.sk-label input.sk-toggleable__control:checked~label.sk-toggleable__label {background-color: #d4ebff;}#sk-container-id-2 input.sk-hidden--visually {border: 0;clip: rect(1px 1px 1px 1px);clip: rect(1px, 1px, 1px, 1px);height: 1px;margin: -1px;overflow: hidden;padding: 0;position: absolute;width: 1px;}#sk-container-id-2 div.sk-estimator {font-family: monospace;background-color: #f0f8ff;border: 1px dotted black;border-radius: 0.25em;box-sizing: border-box;margin-bottom: 0.5em;}#sk-container-id-2 div.sk-estimator:hover {background-color: #d4ebff;}#sk-container-id-2 div.sk-parallel-item::after {content: \"\";width: 100%;border-bottom: 1px solid gray;flex-grow: 1;}#sk-container-id-2 div.sk-label:hover label.sk-toggleable__label {background-color: #d4ebff;}#sk-container-id-2 div.sk-serial::before {content: \"\";position: absolute;border-left: 1px solid gray;box-sizing: border-box;top: 0;bottom: 0;left: 50%;z-index: 0;}#sk-container-id-2 div.sk-serial {display: flex;flex-direction: column;align-items: center;background-color: white;padding-right: 0.2em;padding-left: 0.2em;position: relative;}#sk-container-id-2 div.sk-item {position: relative;z-index: 1;}#sk-container-id-2 div.sk-parallel {display: flex;align-items: stretch;justify-content: center;background-color: white;position: relative;}#sk-container-id-2 div.sk-item::before, #sk-container-id-2 div.sk-parallel-item::before {content: \"\";position: absolute;border-left: 1px solid gray;box-sizing: border-box;top: 0;bottom: 0;left: 50%;z-index: -1;}#sk-container-id-2 div.sk-parallel-item {display: flex;flex-direction: column;z-index: 1;position: relative;background-color: white;}#sk-container-id-2 div.sk-parallel-item:first-child::after {align-self: flex-end;width: 50%;}#sk-container-id-2 div.sk-parallel-item:last-child::after {align-self: flex-start;width: 50%;}#sk-container-id-2 div.sk-parallel-item:only-child::after {width: 0;}#sk-container-id-2 div.sk-dashed-wrapped {border: 1px dashed gray;margin: 0 0.4em 0.5em 0.4em;box-sizing: border-box;padding-bottom: 0.4em;background-color: white;}#sk-container-id-2 div.sk-label label {font-family: monospace;font-weight: bold;display: inline-block;line-height: 1.2em;}#sk-container-id-2 div.sk-label-container {text-align: center;}#sk-container-id-2 div.sk-container {/* jupyter's `normalize.less` sets `[hidden] { display: none; }` but bootstrap.min.css set `[hidden] { display: none !important; }` so we also need the `!important` here to be able to override the default hidden behavior on the sphinx rendered scikit-learn.org. See: https://github.com/scikit-learn/scikit-learn/issues/21755 */display: inline-block !important;position: relative;}#sk-container-id-2 div.sk-text-repr-fallback {display: none;}</style><div id=\"sk-container-id-2\" class=\"sk-top-container\"><div class=\"sk-text-repr-fallback\"><pre>RandomForestClassifier(max_depth=30, random_state=51, verbose=1)</pre><b>In a Jupyter environment, please rerun this cell to show the HTML representation or trust the notebook. <br />On GitHub, the HTML representation is unable to render, please try loading this page with nbviewer.org.</b></div><div class=\"sk-container\" hidden><div class=\"sk-item\"><div class=\"sk-estimator sk-toggleable\"><input class=\"sk-toggleable__control sk-hidden--visually\" id=\"sk-estimator-id-2\" type=\"checkbox\" checked><label for=\"sk-estimator-id-2\" class=\"sk-toggleable__label sk-toggleable__label-arrow\">RandomForestClassifier</label><div class=\"sk-toggleable__content\"><pre>RandomForestClassifier(max_depth=30, random_state=51, verbose=1)</pre></div></div></div></div></div>"
      ],
      "text/plain": [
       "RandomForestClassifier(max_depth=30, random_state=51, verbose=1)"
      ]
     },
     "execution_count": 145,
     "metadata": {},
     "output_type": "execute_result"
    }
   ],
   "source": [
    "clf = RandomForestClassifier(max_depth=30, random_state=51,verbose=1)\n",
    "clf.fit(x_train, y_train)"
   ]
  },
  {
   "cell_type": "code",
   "execution_count": 147,
   "metadata": {
    "ExecuteTime": {
     "end_time": "2023-08-06T21:54:53.020618Z",
     "start_time": "2023-08-06T21:54:52.859329Z"
    },
    "collapsed": false
   },
   "outputs": [
    {
     "data": {
      "text/plain": [
       "['rfc_20_0.935.joblib']"
      ]
     },
     "execution_count": 147,
     "metadata": {},
     "output_type": "execute_result"
    }
   ],
   "source": [
    "joblib.dump(clf, \"rfc_20_0.935.joblib\")"
   ]
  },
  {
   "cell_type": "code",
   "execution_count": 120,
   "metadata": {
    "ExecuteTime": {
     "end_time": "2023-08-06T21:31:37.359664Z",
     "start_time": "2023-08-06T21:31:37.246177Z"
    },
    "collapsed": false
   },
   "outputs": [],
   "source": [
    "loaded_rf = joblib.load(\"rfc_20_0.935.joblib\")"
   ]
  },
  {
   "cell_type": "code",
   "execution_count": 129,
   "metadata": {
    "ExecuteTime": {
     "end_time": "2023-08-06T21:33:37.474113Z",
     "start_time": "2023-08-06T21:33:37.421429Z"
    },
    "collapsed": false
   },
   "outputs": [
    {
     "name": "stderr",
     "output_type": "stream",
     "text": [
      "[Parallel(n_jobs=1)]: Done  49 tasks      | elapsed:    0.0s\n"
     ]
    },
    {
     "data": {
      "text/plain": [
       "array([[0.97, 0.03, 0.  ]])"
      ]
     },
     "execution_count": 129,
     "metadata": {},
     "output_type": "execute_result"
    }
   ],
   "source": [
    "loaded_rf.predict_proba([x_test[5]])"
   ]
  },
  {
   "cell_type": "code",
   "execution_count": 146,
   "metadata": {
    "ExecuteTime": {
     "end_time": "2023-08-06T21:53:35.951708Z",
     "start_time": "2023-08-06T21:53:35.557652Z"
    },
    "collapsed": false
   },
   "outputs": [
    {
     "name": "stderr",
     "output_type": "stream",
     "text": [
      "[Parallel(n_jobs=1)]: Done  49 tasks      | elapsed:    0.1s\n"
     ]
    },
    {
     "data": {
      "text/plain": [
       "0.9357179226069247"
      ]
     },
     "execution_count": 146,
     "metadata": {},
     "output_type": "execute_result"
    }
   ],
   "source": [
    "loaded_rf.score(x_test,y_test)"
   ]
  },
  {
   "cell_type": "code",
   "execution_count": 118,
   "metadata": {
    "ExecuteTime": {
     "end_time": "2023-08-06T21:19:56.046158Z",
     "start_time": "2023-08-06T21:19:55.779292Z"
    },
    "collapsed": false
   },
   "outputs": [
    {
     "name": "stdout",
     "output_type": "stream",
     "text": [
      "[[0.97302697 0.0443686  0.01400778]\n",
      " [0.01978022 0.92293875 0.01712062]\n",
      " [0.00719281 0.03269265 0.9688716 ]]\n"
     ]
    },
    {
     "name": "stderr",
     "output_type": "stream",
     "text": [
      "[Parallel(n_jobs=1)]: Done  49 tasks      | elapsed:    0.0s\n"
     ]
    }
   ],
   "source": [
    "predicted=clf.predict(x_test)\n",
    "conf_mat = confusion_matrix(y_test, predicted)\n",
    "print(conf_mat/sum(conf_mat))"
   ]
  },
  {
   "cell_type": "code",
   "execution_count": 119,
   "metadata": {
    "ExecuteTime": {
     "end_time": "2023-08-06T21:19:59.209029Z",
     "start_time": "2023-08-06T21:19:59.168944Z"
    },
    "collapsed": false
   },
   "outputs": [
    {
     "data": {
      "text/plain": [
       "array([3.85156165e-04, 1.22521750e-02, 1.95855626e-02, 1.16515122e-04,\n",
       "       5.58428702e-04, 4.16945950e-04, 1.29901160e-03, 6.92958449e-04,\n",
       "       1.61657398e-03, 1.46503604e-03, 3.13636769e-04, 9.30969163e-05,\n",
       "       5.68056394e-04, 3.13974088e-04, 1.94115784e-04, 4.63171870e-04,\n",
       "       0.00000000e+00, 3.68465296e-03, 1.90624137e-03, 3.60803302e-05,\n",
       "       1.44705798e-05, 3.68776233e-03, 8.73370447e-04, 5.28721733e-04,\n",
       "       2.50605285e-04, 2.93469436e-04, 5.86140814e-04, 5.95447092e-04,\n",
       "       3.84228841e-02, 2.11506352e-04, 8.80316984e-03, 1.53016510e-03,\n",
       "       7.58882390e-03, 2.34312016e-04, 2.72877264e-03, 3.01668240e-04,\n",
       "       7.55720969e-05, 4.37645080e-04, 1.57633905e-04, 8.73035339e-04,\n",
       "       1.80579657e-05, 7.74734238e-05, 1.42635939e-03, 1.04836610e-03,\n",
       "       2.07046440e-04, 1.20510112e-03, 1.51162181e-03, 0.00000000e+00,\n",
       "       1.08352480e-03, 1.62247986e-03, 2.42009723e-03, 7.99467919e-04,\n",
       "       3.79555983e-04, 1.01005713e-04, 5.34025745e-04, 3.38787733e-04,\n",
       "       1.94297566e-03, 0.00000000e+00, 1.49015684e-04, 2.64625713e-04,\n",
       "       3.72355478e-04, 0.00000000e+00, 8.40800644e-04, 4.35232531e-04,\n",
       "       1.41100510e-02, 2.65742101e-04, 0.00000000e+00, 6.56603716e-02,\n",
       "       2.49644415e-03, 2.26586249e-03, 3.06577979e-04, 2.61061982e-03,\n",
       "       2.11167076e-04, 3.78447166e-04, 1.23255125e-03, 9.70799283e-04,\n",
       "       1.07079425e-04, 1.28949744e-03, 9.41643306e-03, 6.40586193e-05,\n",
       "       1.98174537e-03, 5.85577046e-03, 1.68746387e-02, 5.66069493e-04,\n",
       "       6.89251046e-04, 5.16106983e-04, 3.58730506e-02, 1.42509264e-04,\n",
       "       4.17911001e-05, 1.16679859e-02, 7.99143532e-04, 7.83168804e-04,\n",
       "       1.28536927e-03, 9.84802472e-03, 1.89644251e-04, 2.86366976e-04,\n",
       "       1.65330882e-03, 6.02208519e-06, 1.39720966e-03, 7.82481122e-04,\n",
       "       0.00000000e+00, 0.00000000e+00, 1.02374081e-04, 5.68073892e-04,\n",
       "       2.26170331e-04, 8.64486758e-06, 0.00000000e+00, 6.34958848e-04,\n",
       "       7.29936355e-05, 6.01738441e-04, 8.43028424e-05, 4.56267655e-04,\n",
       "       2.89583738e-04, 3.84626817e-03, 3.86913945e-03, 1.43114784e-03,\n",
       "       2.61325998e-04, 3.82228445e-04, 6.08529583e-05, 1.55924217e-05,\n",
       "       1.04030501e-03, 1.15306664e-06, 9.92623403e-06, 9.53507807e-04,\n",
       "       8.52060922e-04, 7.24627262e-02, 1.28362347e-04, 2.10560193e-03,\n",
       "       4.41378214e-03, 2.89179335e-03, 8.79179419e-04, 7.33841898e-04,\n",
       "       1.80772244e-04, 1.52758547e-04, 3.38313113e-03, 1.97692989e-05,\n",
       "       2.02262211e-02, 7.24821741e-03, 2.67372582e-02, 1.55920024e-02,\n",
       "       7.68785642e-03, 9.64901859e-03, 1.22031923e-02, 3.89083912e-02,\n",
       "       4.25518744e-04, 3.73973241e-02, 6.61189236e-03, 0.00000000e+00,\n",
       "       7.88376082e-04, 5.73698238e-03, 8.08597683e-02, 8.86581164e-03,\n",
       "       2.15540362e-02, 1.67864028e-02, 3.82986713e-02, 6.95238251e-03,\n",
       "       9.43792026e-03, 6.18067359e-03, 6.97425401e-03, 3.66395600e-03,\n",
       "       2.82907630e-02, 3.17646883e-02, 3.06558561e-02, 1.00242421e-02,\n",
       "       9.48300686e-03, 3.82648057e-02, 3.60502709e-02, 0.00000000e+00])"
      ]
     },
     "execution_count": 119,
     "metadata": {},
     "output_type": "execute_result"
    }
   ],
   "source": [
    "clf.feature_importances_"
   ]
  },
  {
   "cell_type": "code",
   "execution_count": 112,
   "metadata": {
    "ExecuteTime": {
     "end_time": "2023-08-06T21:16:09.708701Z",
     "start_time": "2023-08-06T21:16:09.636485Z"
    },
    "collapsed": false
   },
   "outputs": [
    {
     "data": {
      "text/plain": [
       "array([167, 147, 100, 101,  47, 106,  57,  66,  16,  61, 121,  97, 105,\n",
       "       122,  20, 119,  40, 135,  19,  88, 118,  79, 108,  36,  41, 110,\n",
       "        11,  53, 102,  76,   3, 126,  87,  58, 133,  38, 132,  94,  14,\n",
       "        44,  72,  29, 104,  33,  24, 116,  59,  65,  95, 112,  25,  35,\n",
       "        70,  10,  13,  55,  60,  73,  52, 117,   0,   5, 144,  63,  37,\n",
       "       111,  15,  85,  23,  54,   4,  83,  12, 103,  26,  27, 109, 107,\n",
       "        84,   7, 131,  99,  91, 148,  90,  51,  62, 124,  39,  22, 130,\n",
       "       123,  75, 120,  43,  48,  45,  74,  92,  77,   6,  98,  42, 115,\n",
       "         9,  46,  31,   8,  49,  96,  18,  56,  80, 127,  69,  50,  68,\n",
       "        71,  34, 129, 134, 159,  17,  21, 113, 114, 128, 149,  81, 157,\n",
       "       146, 155, 158, 137,  32, 140,  30, 151,  78, 156, 164, 141,  93,\n",
       "       163,  89, 142,   1,  64, 139, 153,  82,   2, 136, 152, 138, 160,\n",
       "       162, 161,  86, 166, 145, 165, 154,  28, 143,  67, 125, 150],\n",
       "      dtype=int64)"
      ]
     },
     "execution_count": 112,
     "metadata": {},
     "output_type": "execute_result"
    }
   ],
   "source": [
    "np.argsort(clf.feature_importances_)"
   ]
  }
 ],
 "metadata": {
  "kernelspec": {
   "display_name": "torch",
   "language": "python",
   "name": "torch"
  },
  "language_info": {
   "codemirror_mode": {
    "name": "ipython",
    "version": 2
   },
   "file_extension": ".py",
   "mimetype": "text/x-python",
   "name": "python",
   "nbconvert_exporter": "python",
   "pygments_lexer": "ipython2",
   "version": "2.7.6"
  }
 },
 "nbformat": 4,
 "nbformat_minor": 0
}
