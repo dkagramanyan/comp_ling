{
 "cells": [
  {
   "cell_type": "code",
   "execution_count": 1,
   "outputs": [],
   "source": [
    "import requests\n",
    "from bs4 import BeautifulSoup"
   ],
   "metadata": {
    "collapsed": false,
    "ExecuteTime": {
     "start_time": "2023-04-17T17:47:04.496661Z",
     "end_time": "2023-04-17T17:47:04.620944Z"
    }
   }
  },
  {
   "cell_type": "code",
   "execution_count": 3,
   "outputs": [],
   "source": [
    "\n",
    "url = 'https://digilib.aua.am/book/459/Դրախտի%20ընտանիք,%20գրեց%2520Խրիմեան%20Հայրիկ%20ի%20պէտս%2520Հայոց%2520ընտանեաց '\n",
    "\n",
    "response = requests.get(url)\n",
    "soup = BeautifulSoup(response.text, 'html.parser')\n",
    "\n",
    "pages = soup.find_all('div', {'class': 'page'})\n",
    "\n",
    "for i, page in enumerate(pages):\n",
    "    img_url = page.img['src']\n",
    "    img_response = requests.get(img_url)\n",
    "    with open(f'page_{i+1}.jpg', 'wb') as f:\n",
    "        f.write(img_response.content)\n",
    "    print(f'Downloaded page {i+1}')\n"
   ],
   "metadata": {
    "collapsed": false,
    "ExecuteTime": {
     "start_time": "2023-04-16T19:40:35.624233Z",
     "end_time": "2023-04-16T19:40:36.526803Z"
    }
   }
  },
  {
   "cell_type": "code",
   "execution_count": 4,
   "outputs": [
    {
     "data": {
      "text/plain": "[]"
     },
     "execution_count": 4,
     "metadata": {},
     "output_type": "execute_result"
    }
   ],
   "source": [
    "pages"
   ],
   "metadata": {
    "collapsed": false,
    "ExecuteTime": {
     "start_time": "2023-04-16T19:40:47.443906Z",
     "end_time": "2023-04-16T19:40:47.447099Z"
    }
   }
  }
 ],
 "metadata": {
  "kernelspec": {
   "name": "cv",
   "language": "python",
   "display_name": "cv"
  },
  "language_info": {
   "codemirror_mode": {
    "name": "ipython",
    "version": 2
   },
   "file_extension": ".py",
   "mimetype": "text/x-python",
   "name": "python",
   "nbconvert_exporter": "python",
   "pygments_lexer": "ipython2",
   "version": "2.7.6"
  }
 },
 "nbformat": 4,
 "nbformat_minor": 0
}
