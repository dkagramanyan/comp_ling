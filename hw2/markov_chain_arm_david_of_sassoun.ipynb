{
 "cells": [
  {
   "cell_type": "code",
   "execution_count": 56,
   "outputs": [],
   "source": [
    "import numpy as np\n",
    "from scipy import sparse\n",
    "from copy import copy\n",
    "from tqdm.notebook import tqdm\n",
    "\n",
    "from uniparser_eastern_armenian import EasternArmenianAnalyzer"
   ],
   "metadata": {
    "collapsed": false,
    "pycharm": {
     "name": "#%%\n"
    }
   }
  },
  {
   "cell_type": "markdown",
   "source": [
    "## Считаем данные и получим характеристики коллекции"
   ],
   "metadata": {
    "collapsed": false,
    "pycharm": {
     "name": "#%% md\n"
    }
   }
  },
  {
   "cell_type": "markdown",
   "source": [
    "### Удалим лишние символы и очистим текст"
   ],
   "metadata": {
    "collapsed": false,
    "pycharm": {
     "name": "#%% md\n"
    }
   }
  },
  {
   "cell_type": "code",
   "execution_count": null,
   "outputs": [],
   "source": [
    "def format_text(text):\n",
    "    all_text=copy(text)\n",
    "    for spaced in ['.','-',',','!','?','(','—',')','՞','՛','։','՝','՜','’','«','»','*']:\n",
    "        all_text = all_text.replace(spaced, ' {0} '.format(spaced))\n",
    "\n",
    "    all_text=all_text.replace('   ',' ')\n",
    "    all_text=all_text.replace('  ',' ')\n",
    "    return all_text"
   ],
   "metadata": {
    "collapsed": false,
    "pycharm": {
     "name": "#%%\n"
    }
   }
  },
  {
   "cell_type": "code",
   "execution_count": 55,
   "outputs": [],
   "source": [
    "lines=[]\n",
    "with open('david_of_sassoun.txt','r',encoding='utf-8') as f:\n",
    "    lines.extend(f.readlines())\n",
    "\n",
    "new_lines=[]\n",
    "all_text=''\n",
    "# удалим скобки и корокие предложения\n",
    "for i,line in enumerate(lines):\n",
    "    text=line.replace('\\n','')\n",
    "    if len(text)>3 and '[' not in text and ']' not in text:\n",
    "        new_lines.append(text)\n",
    "\n",
    "# добавим специальные теги в предложения\n",
    "for line in new_lines:\n",
    "    all_text=all_text+' <START> '+line+ ' <END>'"
   ],
   "metadata": {
    "collapsed": false,
    "pycharm": {
     "name": "#%%\n"
    }
   }
  },
  {
   "cell_type": "code",
   "execution_count": 57,
   "outputs": [
    {
     "name": "stdout",
     "output_type": "stream",
     "text": [
      "<START> Դառնամ , զօղորմին տի տամ * Խանում Ծովինարին , Դառնամ , զօղորմին տի տամ Սանասարին , Բաղդասարին . Դառնամ , զօղորմին տի տամ Քեռի Թորոսիկին . Դառնամ , զօղորմին տի տամ Ականջ արողների ծընողներին ։ <END> <START> ՄԱՍՆ Ա ԿՌԻՎ ԲԱՂԴԱԴԻ ԽԱԼԻՖԱՅԻ ԴԵՄ <END> <START> Ըսկիզբն էր կըռապաշտ Խալիֆան , Մեկ էլ Հայոց Գագիկ թագավոր . Կռապաշտ Խալիֆան Բաղդադ կը նստեր , Գագիկթագավոր ՝ Բերդ - Կապոտին ։ <END> <START> Գագիկ թագավոր ծեր , ալևոր էր . Զինք շա ՛ տ հարըստություն ուներ , Զարմ ու զավակներ չուներ . Մեկ աղջիկ \n",
      "Количество символов 374807\n",
      "Количество предложений 4047\n",
      "Количество словоформ 89321\n"
     ]
    }
   ],
   "source": [
    "all_text=format_text(all_text)[1:]\n",
    "\n",
    "corpus_words= [word for word in all_text.split(' ') if word != '']\n",
    "\n",
    "print(all_text[:500])\n",
    "print(f'Количество символов {len(all_text)}')\n",
    "print(f'Количество предложений',len(all_text.split('։')))\n",
    "print(f'Количество словоформ',len(corpus_words))"
   ],
   "metadata": {
    "collapsed": false,
    "pycharm": {
     "name": "#%%\n"
    }
   }
  },
  {
   "cell_type": "markdown",
   "source": [
    "### Посчитаем леммы"
   ],
   "metadata": {
    "collapsed": false,
    "pycharm": {
     "name": "#%% md\n"
    }
   }
  },
  {
   "cell_type": "code",
   "execution_count": 53,
   "outputs": [],
   "source": [
    "analyzer = EasternArmenianAnalyzer()"
   ],
   "metadata": {
    "collapsed": false,
    "pycharm": {
     "name": "#%%\n"
    }
   }
  },
  {
   "cell_type": "code",
   "execution_count": 58,
   "outputs": [
    {
     "data": {
      "text/plain": "  0%|          | 0/89321 [00:00<?, ?it/s]",
      "application/vnd.jupyter.widget-view+json": {
       "version_major": 2,
       "version_minor": 0,
       "model_id": "2bb6c4d8830744b28a0bcf842c0a7cfe"
      }
     },
     "metadata": {},
     "output_type": "display_data"
    },
    {
     "name": "stdout",
     "output_type": "stream",
     "text": [
      "Количество лемм 2164\n"
     ]
    }
   ],
   "source": [
    "lemmas=[]\n",
    "\n",
    "for word in tqdm(corpus_words):\n",
    "    analyses = analyzer.analyze_words(word)[0]\n",
    "    lemmas.append(analyses.lemma)\n",
    "\n",
    "print(f'Количество лемм {len(np.unique(lemmas))}')"
   ],
   "metadata": {
    "collapsed": false,
    "pycharm": {
     "name": "#%%\n"
    }
   }
  },
  {
   "cell_type": "markdown",
   "source": [
    "## Создадим статистическую модель"
   ],
   "metadata": {
    "collapsed": false,
    "pycharm": {
     "name": "#%% md\n"
    }
   }
  },
  {
   "cell_type": "code",
   "execution_count": null,
   "outputs": [],
   "source": [
    "k = 1 # adjustable\n",
    "\n",
    "unique_words = list(np.unique(corpus_words))\n",
    "# разобьем на сеты длиной k\n",
    "words_sets = [ ' '.join(corpus_words[i:i+k]) for i, _ in enumerate(corpus_words[:-k]) ]\n",
    "\n",
    "# создадим матрицу из сетов и словоформ\n",
    "unique_words_sets = list(np.unique(words_sets))\n",
    "sets_count = len(unique_words_sets)\n",
    "\n",
    "probab_matrix = np.zeros((sets_count, len(unique_words)))\n",
    "\n",
    "# словари для поиска индекса слова\n",
    "unique_word2idx = {word: i for i, word in enumerate(unique_words)}\n",
    "set2idx = {word: i for i, word in enumerate(unique_words_sets)}\n",
    "\n",
    "\n",
    "# пройдемся по сетам и заполним матрицу\n",
    "for i, set in enumerate(tqdm(words_sets[:-k])):\n",
    "\n",
    "    current_set_idx = set2idx[set]\n",
    "    next_word_idx = unique_word2idx[corpus_words[i+k]]\n",
    "    probab_matrix[current_set_idx, next_word_idx] +=1\n",
    "\n"
   ],
   "metadata": {
    "collapsed": false,
    "pycharm": {
     "name": "#%%\n"
    }
   }
  },
  {
   "cell_type": "markdown",
   "source": [
    "## Сгенерируем текст"
   ],
   "metadata": {
    "collapsed": false,
    "pycharm": {
     "name": "#%% md\n"
    }
   }
  },
  {
   "cell_type": "code",
   "execution_count": null,
   "outputs": [],
   "source": [
    "def generate_sentence(initial_sentence, chain_length=15,alpha=0):\n",
    "    current_set = initial_sentence.split(' ')\n",
    "\n",
    "    sentence = copy(initial_sentence)\n",
    "\n",
    "    for _ in range(chain_length):\n",
    "        sentence+=' '\n",
    "        # вектор вероятностей для выбранного сета\n",
    "        next_word_vector = probab_matrix[set2idx[' '.join(current_set)]] + alpha\n",
    "        nex_words_probability = next_word_vector/next_word_vector.sum()\n",
    "        next_word = np.random.choice(unique_words, p=nex_words_probability)\n",
    "\n",
    "        sentence+=next_word\n",
    "        current_set = current_set[1:]+[next_word]\n",
    "    return sentence\n"
   ],
   "metadata": {
    "collapsed": false,
    "pycharm": {
     "name": "#%%\n"
    }
   }
  },
  {
   "cell_type": "code",
   "execution_count": null,
   "outputs": [],
   "source": [
    "# generate_sentence('<START> Դառնամ')\n",
    "generate_sentence('մեկ բան')"
   ],
   "metadata": {
    "collapsed": false,
    "pycharm": {
     "name": "#%%\n"
    }
   }
  },
  {
   "cell_type": "markdown",
   "source": [
    "## Оценим вероятности фраз"
   ],
   "metadata": {
    "collapsed": false,
    "pycharm": {
     "name": "#%% md\n"
    }
   }
  },
  {
   "cell_type": "code",
   "execution_count": 49,
   "outputs": [],
   "source": [
    "def sentence_probability(initial_sentence, alpha=1, V=2176):\n",
    "\n",
    "    corpus_words= [word for word in initial_sentence.split(' ') if word != '']\n",
    "    words_sets = [ ' '.join(corpus_words[i:i+k]) for i, _ in enumerate(corpus_words[:-k]) ]\n",
    "\n",
    "\n",
    "    log_probab=0\n",
    "\n",
    "    for i,current_set in enumerate(words_sets):\n",
    "\n",
    "        current_set_idx = set2idx.get(current_set)\n",
    "        next_word_idx = unique_word2idx.get(corpus_words[i+k])\n",
    "        # сглаживание Лапласса\n",
    "        if current_set_idx is not None and next_word_idx is not None:\n",
    "            word_number = probab_matrix[current_set_idx,next_word_idx]\n",
    "\n",
    "            next_word_vector = probab_matrix[current_set_idx] + alpha\n",
    "            nex_words_probability = word_number/next_word_vector.sum()\n",
    "        else:\n",
    "            if current_set_idx is not None:\n",
    "                norm=probab_matrix[current_set_idx].sum()\n",
    "            else:\n",
    "                norm=0\n",
    "\n",
    "            nex_words_probability = 1/(norm+V)\n",
    "\n",
    "        log_probab+=np.log(nex_words_probability)\n",
    "\n",
    "    return log_probab\n"
   ],
   "metadata": {
    "collapsed": false,
    "pycharm": {
     "name": "#%%\n"
    }
   }
  },
  {
   "cell_type": "code",
   "execution_count": null,
   "outputs": [],
   "source": [
    "# k=2\n",
    "txts=['Բաղդադ կը նստեր ',\n",
    "      'Ետ քաշվան, կանգնա՛ն։',\n",
    "      'մի տըվին, ԶԴավիթ առան',\n",
    "      'Դավիթ չը գնաց',\n",
    "      'Իր համար թե՛ք']\n",
    "\n",
    "w_txts=['կը Գագիկ նստեր',\n",
    "      'Ետ կը, կանգնա՛ն։',\n",
    "      'տար տըվին, ԶԴավիթ առան',\n",
    "      'տաշտ չը գնաց',\n",
    "      'կը համար թե՛ Թալ']\n",
    "\n",
    "for txt in w_txts:\n",
    "    log_prob=sentence_probability(txt)\n",
    "    print('-----')\n",
    "    print(log_prob)\n",
    "    print(np.exp(log_prob))"
   ],
   "metadata": {
    "collapsed": false,
    "pycharm": {
     "name": "#%%\n"
    }
   }
  },
  {
   "cell_type": "markdown",
   "source": [
    "# Перплексия"
   ],
   "metadata": {
    "collapsed": false,
    "pycharm": {
     "name": "#%% md\n"
    }
   }
  },
  {
   "cell_type": "markdown",
   "source": [
    "https://stackoverflow.com/questions/54941966/how-can-i-calculate-perplexity-using-nltk\n"
   ],
   "metadata": {
    "collapsed": false,
    "pycharm": {
     "name": "#%% md\n"
    }
   }
  },
  {
   "cell_type": "markdown",
   "source": [
    "### Униграмная модель"
   ],
   "metadata": {
    "collapsed": false,
    "pycharm": {
     "name": "#%% md\n"
    }
   }
  },
  {
   "cell_type": "code",
   "execution_count": null,
   "outputs": [],
   "source": [
    "pp=0\n",
    "\n",
    "N=89321\n",
    "V=2176\n",
    "for i, set in enumerate(tqdm(probab_matrix)):\n",
    "\n",
    "    word_number=probab_matrix[i, i]\n",
    "    # сглажвание лапласса\n",
    "    if word_number==0:\n",
    "        word_number+=1\n",
    "        word_probab=word_number/(probab_matrix[i].sum()+V)\n",
    "    else:\n",
    "        word_probab=word_number/probab_matrix[i].sum()\n",
    "\n",
    "    pp=np.log(word_probab)\n",
    "\n",
    "l=pp/N\n",
    "print(f'Perplexity={np.power(np.e, -l)}')"
   ],
   "metadata": {
    "collapsed": false,
    "pycharm": {
     "name": "#%%\n"
    }
   }
  },
  {
   "cell_type": "markdown",
   "source": [
    "## Биграмная модель"
   ],
   "metadata": {
    "collapsed": false,
    "pycharm": {
     "name": "#%% md\n"
    }
   }
  },
  {
   "cell_type": "code",
   "execution_count": null,
   "outputs": [],
   "source": [
    "pp=0\n",
    "\n",
    "N=89321\n",
    "V=2176\n",
    "for i, current_set in enumerate(tqdm(unique_words_sets)):\n",
    "\n",
    "    w_old, w_current=current_set.split(' ')\n",
    "    old_idx=unique_word2idx.get(w_old)\n",
    "\n",
    "    old_word_number=probab_matrix[:, old_idx].sum()\n",
    "    current_set_number = probab_matrix[set2idx.get(current_set)].sum()\n",
    "\n",
    "    # сглажвание лапласса\n",
    "    if current_set_number==0:\n",
    "        current_set_number+=1\n",
    "        word_probab=current_set_number/(old_word_number+V)\n",
    "    elif old_word_number==0:\n",
    "        word_probab=current_set_number/(old_word_number+V)\n",
    "    else:\n",
    "        word_probab=current_set_number/old_word_number\n",
    "\n",
    "    pp=np.log(word_probab)\n",
    "\n",
    "l=pp/N\n",
    "print(f'Perplexity={np.power(np.e, -l)}')"
   ],
   "metadata": {
    "collapsed": false,
    "pycharm": {
     "name": "#%%\n"
    }
   }
  }
 ],
 "metadata": {
  "kernelspec": {
   "name": "torch",
   "language": "python",
   "display_name": "torch"
  },
  "language_info": {
   "codemirror_mode": {
    "name": "ipython",
    "version": 2
   },
   "file_extension": ".py",
   "mimetype": "text/x-python",
   "name": "python",
   "nbconvert_exporter": "python",
   "pygments_lexer": "ipython2",
   "version": "2.7.6"
  }
 },
 "nbformat": 4,
 "nbformat_minor": 0
}