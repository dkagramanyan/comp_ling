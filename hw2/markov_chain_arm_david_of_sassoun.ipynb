{
 "cells": [
  {
   "cell_type": "code",
   "execution_count": null,
   "outputs": [],
   "source": [
    "import numpy as np\n",
    "from scipy.sparse import dok_matrix"
   ],
   "metadata": {
    "collapsed": false,
    "pycharm": {
     "name": "#%%\n"
    }
   }
  },
  {
   "cell_type": "code",
   "execution_count": null,
   "outputs": [],
   "source": [
    "lines=[]\n",
    "with open('david_of_sassoun.txt','r',encoding='utf-8') as f:\n",
    "    lines.extend(f.readlines())"
   ],
   "metadata": {
    "collapsed": false,
    "pycharm": {
     "name": "#%%\n"
    }
   }
  },
  {
   "cell_type": "code",
   "execution_count": null,
   "outputs": [],
   "source": [
    "new_lines=[]\n",
    "all_text=''\n",
    "for i,line in enumerate(lines):\n",
    "    text=line.replace('\\n','')\n",
    "    if len(text)>3 and '[' not in text and ']' not in text:\n",
    "        new_lines.append(text)\n",
    "\n",
    "for line in new_lines:\n",
    "    all_text=all_text+' <START> '+line+ ' <END>'\n",
    "\n",
    "for spaced in ['.','-',',','!','?','(','—',')','՞','՛','։','՝','՜','’','«','»','*']:\n",
    "    all_text = all_text.replace(spaced, ' {0} '.format(spaced))\n",
    "\n",
    "all_text=all_text.replace('   ',' ')\n",
    "all_text=all_text.replace('  ',' ')\n",
    "all_text=all_text[1:]\n",
    "\n",
    "all_text"
   ],
   "metadata": {
    "collapsed": false,
    "pycharm": {
     "name": "#%%\n"
    }
   }
  },
  {
   "cell_type": "markdown",
   "source": [
    "сглаживание 4 лекция"
   ],
   "metadata": {
    "collapsed": false,
    "pycharm": {
     "name": "#%% md\n"
    }
   }
  },
  {
   "cell_type": "code",
   "execution_count": null,
   "outputs": [],
   "source": [
    "corpus = \"\"\n",
    "for file_name in file_names:\n",
    "    with open(file_name, 'r') as f:\n",
    "        corpus+=f.read()\n",
    "corpus = corpus.replace('\\n',' ')\n",
    "corpus = corpus.replace('\\t',' ')\n",
    "corpus = corpus.replace('“', ' \" ')\n",
    "corpus = corpus.replace('”', ' \" ')\n",
    "for spaced in ['.','-',',','!','?','(','—',')']:\n",
    "    corpus = corpus.replace(spaced, ' {0} '.format(spaced))\n",
    "len(corpus) #10510355 characters"
   ],
   "metadata": {
    "collapsed": false,
    "pycharm": {
     "name": "#%%\n"
    }
   }
  },
  {
   "cell_type": "code",
   "execution_count": null,
   "outputs": [],
   "source": [
    "corpus_words = corpus.split(' ')\n",
    "corpus_words= [word for word in corpus_words if word != '']\n",
    "corpus_words # [...'a', 'wyvern', ',', 'two', 'of', 'the', 'thousand'...]\n",
    "len(corpus_words) # 2185920"
   ],
   "metadata": {
    "collapsed": false,
    "pycharm": {
     "name": "#%%\n"
    }
   }
  },
  {
   "cell_type": "code",
   "execution_count": null,
   "outputs": [],
   "source": [
    "distinct_words = list(set(corpus_words))\n",
    "word_idx_dict = {word: i for i, word in enumerate(distinct_words)}\n",
    "distinct_words_count = len(list(set(corpus_words)))\n",
    "distinct_words_count # 32663"
   ],
   "metadata": {
    "collapsed": false,
    "pycharm": {
     "name": "#%%\n"
    }
   }
  },
  {
   "cell_type": "markdown",
   "source": [],
   "metadata": {
    "collapsed": false,
    "pycharm": {
     "name": "#%% md\n"
    }
   }
  },
  {
   "cell_type": "code",
   "execution_count": null,
   "outputs": [],
   "source": [
    "k = 2 # adjustable\n",
    "sets_of_k_words = [ ' '.join(corpus_words[i:i+k]) for i, _ in enumerate(corpus_words[:-k]) ]\n",
    "\n",
    "sets_count = len(list(set(sets_of_k_words)))\n",
    "next_after_k_words_matrix = dok_matrix((sets_count, len(distinct_words)))\n",
    "\n",
    "distinct_sets_of_k_words = list(set(sets_of_k_words))\n",
    "k_words_idx_dict = {word: i for i, word in enumerate(distinct_sets_of_k_words)}\n",
    "\n",
    "for i, word in enumerate(sets_of_k_words[:-k]):\n",
    "\n",
    "    word_sequence_idx = k_words_idx_dict[word]\n",
    "    next_word_idx = word_idx_dict[corpus_words[i+k]]\n",
    "    next_after_k_words_matrix[word_sequence_idx, next_word_idx] +=1\n"
   ],
   "metadata": {
    "collapsed": false,
    "pycharm": {
     "name": "#%%\n"
    }
   }
  },
  {
   "cell_type": "code",
   "execution_count": null,
   "outputs": [],
   "source": [
    "def sample_next_word_after_sequence(word_sequence, alpha = 0):\n",
    "    next_word_vector = next_after_k_words_matrix[k_words_idx_dict[word_sequence]] + alpha\n",
    "    likelihoods = next_word_vector/next_word_vector.sum()\n",
    "\n",
    "    return np.random.choice(distinct_words, p=likelihoods.toarray())\n",
    "\n",
    "def stochastic_chain(seed, chain_length=15, seed_length=2):\n",
    "    current_words = seed.split(' ')\n",
    "    if len(current_words) != seed_length:\n",
    "        raise ValueError(f'wrong number of words, expected {seed_length}')\n",
    "    sentence = seed\n",
    "\n",
    "    for _ in range(chain_length):\n",
    "        sentence+=' '\n",
    "        next_word = sample_next_word_after_sequence(' '.join(current_words))\n",
    "        sentence+=next_word\n",
    "        current_words = current_words[1:]+[next_word]\n",
    "    return sentence\n"
   ],
   "metadata": {
    "collapsed": false,
    "pycharm": {
     "name": "#%%\n"
    }
   }
  },
  {
   "cell_type": "code",
   "execution_count": null,
   "outputs": [],
   "source": [],
   "metadata": {
    "collapsed": false,
    "pycharm": {
     "name": "#%%\n"
    }
   }
  },
  {
   "cell_type": "code",
   "execution_count": null,
   "outputs": [],
   "source": [
    "# example use\n",
    "stochastic_chain('the world')"
   ],
   "metadata": {
    "collapsed": false,
    "pycharm": {
     "name": "#%%\n"
    }
   }
  }
 ],
 "metadata": {
  "kernelspec": {
   "display_name": "Python 3",
   "language": "python",
   "name": "python3"
  },
  "language_info": {
   "codemirror_mode": {
    "name": "ipython",
    "version": 2
   },
   "file_extension": ".py",
   "mimetype": "text/x-python",
   "name": "python",
   "nbconvert_exporter": "python",
   "pygments_lexer": "ipython2",
   "version": "2.7.6"
  }
 },
 "nbformat": 4,
 "nbformat_minor": 0
}