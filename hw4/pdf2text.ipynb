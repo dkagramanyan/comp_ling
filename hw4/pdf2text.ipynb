{
 "cells": [
  {
   "cell_type": "code",
   "execution_count": null,
   "metadata": {
    "collapsed": true
   },
   "outputs": [],
   "source": [
    "import PyPDF2\n",
    "import io\n",
    "import json\n",
    "\n",
    "import pandas as pd\n",
    "from bs4 import BeautifulSoup\n",
    "from tqdm.notebook import tqdm"
   ]
  },
  {
   "cell_type": "code",
   "execution_count": null,
   "outputs": [],
   "source": [
    "data=pd.read_json('books/arlis_docs.jsonl',lines=True,chunksize = 10000)"
   ],
   "metadata": {
    "collapsed": false
   }
  },
  {
   "cell_type": "code",
   "execution_count": null,
   "outputs": [],
   "source": [
    "len_am=0\n",
    "len_all=0\n",
    "for chunk in tqdm(data):\n",
    "    len_all+=len(chunk)\n",
    "    len_am+=len(chunk[chunk['language']!='AM'])\n",
    "    print(len_am, len_all)"
   ],
   "metadata": {
    "collapsed": false
   }
  },
  {
   "cell_type": "code",
   "execution_count": null,
   "outputs": [],
   "source": [
    "N=0\n",
    "for chunk in tqdm(data):\n",
    "    for i in tqdm(range(len(chunk))):\n",
    "\n",
    "        html=chunk['body'].iloc[i]\n",
    "        soup = BeautifulSoup(html, features=\"html.parser\")\n",
    "\n",
    "        # kill all script and style elements\n",
    "        for script in soup([\"script\", \"style\"]):\n",
    "            script.extract()    # rip it out\n",
    "\n",
    "        # get text\n",
    "        text = soup.get_text()\n",
    "\n",
    "        # break into lines and remove leading and trailing space on each\n",
    "        lines = (line.strip() for line in text.splitlines())\n",
    "        # break multi-headlines into a line each\n",
    "        chunks = (phrase.strip() for line in lines for phrase in line.split(\"  \"))\n",
    "        # drop blank lines\n",
    "        text = '\\n '.join(chunk for chunk in chunks if chunk)\n",
    "        N+=text.count(' ')\n",
    "\n",
    "    print('N=',N)"
   ],
   "metadata": {
    "collapsed": false
   }
  },
  {
   "cell_type": "code",
   "execution_count": null,
   "outputs": [],
   "source": [
    "N=0\n",
    "for chunk in tqdm(data):\n",
    "    for i in tqdm(range(len(chunk))):\n",
    "\n",
    "        html=chunk['body'].iloc[i]\n",
    "        soup = BeautifulSoup(html, features=\"html.parser\")\n",
    "\n",
    "        # kill all script and style elements\n",
    "        for script in soup([\"script\", \"style\"]):\n",
    "            script.extract()    # rip it out\n",
    "\n",
    "        # get text\n",
    "        text = soup.get_text()\n",
    "\n",
    "        # break into lines and remove leading and trailing space on each\n",
    "        lines = (line.strip() for line in text.splitlines())\n",
    "        # break multi-headlines into a line each\n",
    "        chunks = (phrase.strip() for line in lines for phrase in line.split(\"  \"))\n",
    "        # drop blank lines\n",
    "        text = '\\n '.join(chunk for chunk in chunks if chunk)\n",
    "        N+=text.count(' ')\n",
    "\n",
    "    print('N=',N)"
   ],
   "metadata": {
    "collapsed": false
   }
  },
  {
   "cell_type": "code",
   "execution_count": null,
   "outputs": [],
   "source": [
    "\n",
    "with open('books/arlis_docs.jsonl', 'r',encoding='utf-8') as json_file:\n",
    "    json_list = list(json_file)\n"
   ],
   "metadata": {
    "collapsed": false
   }
  },
  {
   "cell_type": "code",
   "execution_count": null,
   "outputs": [],
   "source": [
    "N/1e6"
   ],
   "metadata": {
    "collapsed": false
   }
  },
  {
   "cell_type": "code",
   "execution_count": null,
   "outputs": [],
   "source": [
    "# input_filepath='books/Արմինե-Գաբրիելյան-–-Հայաստանում-հայտնաբերված-մի-քանի-բազմանիստերի-մասին.pdf'\n",
    "# input_filepath='books/output1.pdf'\n",
    "input_filepath='books/Dzeragrats-1.pdf'\n",
    "book=open(input_filepath,'rb')\n",
    "\n",
    "# reader=PyPDF2.PdfReader(book)\n",
    "file=io.open(input_filepath, \"rb\")\n",
    "reader = PyPDF2.PdfReader(file)\n",
    "x=reader.pages.length_function()+1\n",
    "\n",
    "page= reader.pages[0]\n",
    "txt=page.extract_text()\n",
    "txt"
   ],
   "metadata": {
    "collapsed": false
   }
  },
  {
   "cell_type": "code",
   "execution_count": null,
   "outputs": [],
   "source": [
    "import pdfminer.high_level # $ pip install pdfminer.six\n",
    "\n",
    "with open(input_filepath, 'rb') as book:\n",
    "    txt=book.readlines()\n",
    "    with open('book.txt','w',encoding='ascii') as file_w:\n",
    "        pdfminer.high_level.extract_text_to_fp(book,file_w)"
   ],
   "metadata": {
    "collapsed": false
   }
  },
  {
   "cell_type": "code",
   "execution_count": null,
   "outputs": [],
   "source": [
    "import pytesseract\n",
    "from pdf2image import convert_from_path\n",
    "import glob\n",
    "from tqdm.notebook import tqdm\n",
    "\n",
    "pytesseract.pytesseract.tesseract_cmd = r'C:\\Program Files\\Tesseract-OCR\\tesseract.exe'\n",
    "\n",
    "# pdf_path='books/Արմինե-Գաբրիելյան-–-Հայաստանում-հայտնաբերված-մի-քանի-բազմանիստերի-մասին.pdf'\n",
    "pdf_path='books/Dzeragrats-1.pdf'\n",
    "pages = convert_from_path(pdf_path, 500)\n",
    "\n",
    "with open(f'book_dzeragrats-1.txt', 'w',encoding='utf-8') as the_file:\n",
    "\n",
    "    for pageNum,imgBlob in enumerate(tqdm(pages)):\n",
    "        # text = pytesseract.image_to_string(imgBlob,lang='hye+eng+rus')\n",
    "        text = pytesseract.image_to_string(imgBlob,lang='hye')\n",
    "        the_file.write(text)\n"
   ],
   "metadata": {
    "collapsed": false,
    "pycharm": {
     "is_executing": true
    }
   }
  }
 ],
 "metadata": {
  "kernelspec": {
   "name": "torch",
   "language": "python",
   "display_name": "torch"
  },
  "language_info": {
   "codemirror_mode": {
    "name": "ipython",
    "version": 2
   },
   "file_extension": ".py",
   "mimetype": "text/x-python",
   "name": "python",
   "nbconvert_exporter": "python",
   "pygments_lexer": "ipython2",
   "version": "2.7.6"
  }
 },
 "nbformat": 4,
 "nbformat_minor": 0
}
