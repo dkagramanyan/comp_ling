{
 "cells": [
  {
   "cell_type": "code",
   "execution_count": null,
   "metadata": {
    "ExecuteTime": {
     "start_time": "2023-04-21T22:36:53.910777Z",
     "end_time": "2023-04-21T22:36:54.045009Z"
    },
    "collapsed": true
   },
   "outputs": [],
   "source": [
    "import requests\n",
    "from bs4 import BeautifulSoup\n",
    "import os\n",
    "\n",
    "import requests\n",
    "import json"
   ]
  },
  {
   "cell_type": "code",
   "execution_count": null,
   "metadata": {
    "ExecuteTime": {
     "end_time": "2023-04-16T19:47:45.792279Z",
     "start_time": "2023-04-16T19:47:44.987791Z"
    }
   },
   "outputs": [],
   "source": [
    "\n",
    "# Set the URL for the page containing Armenian books\n",
    "url = \"https://archive.org/details/booksbylanguage_armenian?and[]=languageSorter%3A%22Armenian%22\"\n",
    "\n",
    "# Set the base URL for the Internet Archive API\n",
    "api_url = \"https://archive.org/advancedsearch.php\"\n",
    "\n",
    "# Set the query parameters for the API request\n",
    "params = {\n",
    "    \"q\": \"collection:(booksbylanguage_armenian)\",\n",
    "    \"output\": \"json\",\n",
    "    \"rows\": 1000\n",
    "}\n",
    "\n",
    "# Make the API request and parse the JSON response\n",
    "response = requests.get(api_url, params=params)\n",
    "data = json.loads(response.text)\n",
    "\n",
    "# Loop through the items in the response and download each book\n",
    "for item in data[\"response\"][\"docs\"]:\n",
    "    identifier = item[\"identifier\"]\n",
    "    print(f\"Downloading book {identifier}...\")\n",
    "    download_url = f\"https://archive.org/download/{identifier}/{identifier}.pdf\"\n",
    "    download_response = requests.get(download_url)\n",
    "    with open(f\"{identifier}.pdf\", \"wb\") as f:\n",
    "        f.write('internet_archive/'+download_response.content)\n",
    "    print(f\"Book {identifier} downloaded!\")"
   ]
  },
  {
   "cell_type": "code",
   "execution_count": null,
   "metadata": {
    "ExecuteTime": {
     "start_time": "2023-04-21T22:38:05.113385Z",
     "end_time": "2023-04-21T22:38:05.719331Z"
    }
   },
   "outputs": [],
   "source": [
    "# url='https://ebooks.am/search?query=&#032;'\n",
    "url='https://ebooks.am/search?query=Մաս'\n",
    "# url='https://ebooks.am/'\n",
    "\n",
    "response = requests.get(url).text\n",
    "# data = json.loads(response.text)\n",
    "soup = BeautifulSoup(response, features=\"html.parser\")\n",
    "\n",
    "soup.find_all('div',{'class':'books_container'})"
   ]
  },
  {
   "cell_type": "code",
   "execution_count": null,
   "outputs": [],
   "source": [
    "response"
   ],
   "metadata": {
    "collapsed": false,
    "ExecuteTime": {
     "start_time": "2023-04-21T22:38:08.444662Z",
     "end_time": "2023-04-21T22:38:08.466630Z"
    }
   }
  },
  {
   "cell_type": "code",
   "execution_count": null,
   "metadata": {
    "ExecuteTime": {
     "start_time": "2023-04-21T22:38:22.598275Z",
     "end_time": "2023-04-21T22:38:22.611239Z"
    }
   },
   "outputs": [],
   "source": [
    "with open('book.html','w',encoding='utf-16') as file:\n",
    "    file.writelines(response)"
   ]
  }
 ],
 "metadata": {
  "kernelspec": {
   "display_name": "torch",
   "language": "python",
   "name": "torch"
  },
  "language_info": {
   "codemirror_mode": {
    "name": "ipython",
    "version": 3
   },
   "file_extension": ".py",
   "mimetype": "text/x-python",
   "name": "python",
   "nbconvert_exporter": "python",
   "pygments_lexer": "ipython3",
   "version": "3.8.12"
  }
 },
 "nbformat": 4,
 "nbformat_minor": 1
}
