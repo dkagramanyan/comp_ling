{
 "cells": [
  {
   "cell_type": "code",
   "execution_count": null,
   "metadata": {
    "collapsed": true,
    "ExecuteTime": {
     "start_time": "2023-04-23T02:18:34.570607Z",
     "end_time": "2023-04-23T02:18:34.575182Z"
    }
   },
   "outputs": [],
   "source": [
    "import numpy as np\n",
    "import os\n",
    "from matplotlib import pyplot as plt\n",
    "import glob\n",
    "from collections import Counter"
   ]
  },
  {
   "cell_type": "code",
   "execution_count": null,
   "outputs": [],
   "source": [
    "def preprocess(sentence):\n",
    "    txt=sentence.replace('\\n','')\n",
    "    txt=txt.split(' ')\n",
    "    return txt"
   ],
   "metadata": {
    "collapsed": false,
    "ExecuteTime": {
     "start_time": "2023-04-22T23:39:08.300715Z",
     "end_time": "2023-04-22T23:39:08.306107Z"
    }
   }
  },
  {
   "cell_type": "code",
   "execution_count": null,
   "outputs": [],
   "source": [
    "west_folder='western/'\n",
    "east_folder='eastern/'\n",
    "west_files_paths=glob.glob(west_folder+'/*.txt')\n",
    "east_files_paths=glob.glob(east_folder+'/*.txt')\n",
    "\n",
    "west_files=[' '.join(open(path,'r',encoding='utf8').readlines()) for path in west_files_paths]\n",
    "east_files=[' '.join(open(path,'r',encoding='utf8').readlines()) for path in east_files_paths]\n",
    "\n",
    "words_list=[preprocess(sentence) for sentence in west_files]\n",
    "words_list.extend([preprocess(sentence) for sentence in east_files])\n",
    "\n",
    "# west_files"
   ],
   "metadata": {
    "collapsed": false,
    "ExecuteTime": {
     "start_time": "2023-04-23T02:18:35.744870Z",
     "end_time": "2023-04-23T02:18:35.784730Z"
    }
   }
  },
  {
   "cell_type": "code",
   "execution_count": null,
   "outputs": [],
   "source": [
    "def find_positions(words,find_value):\n",
    "    positions=[]\n",
    "    for word in words:\n",
    "        pos=word.find(find_value)\n",
    "        if pos!=-1:\n",
    "            # positions.append((pos+1)/len(word))\n",
    "            positions.append((pos+1))\n",
    "    return positions"
   ],
   "metadata": {
    "collapsed": false,
    "ExecuteTime": {
     "start_time": "2023-04-23T02:35:36.996446Z",
     "end_time": "2023-04-23T02:35:37.001059Z"
    }
   }
  },
  {
   "cell_type": "code",
   "execution_count": null,
   "outputs": [],
   "source": [
    "def print_pos(positions):\n",
    "    fig,axes=plt.subplots(2,2,figsize=(10,7))\n",
    "    names=[f'west_pos, {west_files_paths[0][8:18]}',f'west_pos, {west_files_paths[1][8:18]}',\n",
    "           f'east_pos, {east_files_paths[0][8:18]}',f'east_pos, {east_files_paths[1][8:18]}']\n",
    "\n",
    "    step=0\n",
    "    bins=10\n",
    "    word_len=15\n",
    "    for i,axes_list in enumerate(axes):\n",
    "        for j,ax in enumerate(axes_list):\n",
    "            # ax.hist(positions[step],bins=bins,density=True)\n",
    "            y, x = np.histogram(positions[step], bins=np.linspace(0,word_len,bins))\n",
    "            # x=x[:-1]+0.1\n",
    "            x=x[:-1]+1\n",
    "            # y=y/norm\n",
    "            ax.plot(x,y)\n",
    "            ax.scatter(x,y,c='green')\n",
    "            ax.set_xticks(np.arange(1,word_len+1,1))\n",
    "            ax.set_title(names[step])\n",
    "            step+=1\n",
    "\n",
    "\n",
    "    plt.show()"
   ],
   "metadata": {
    "collapsed": false,
    "ExecuteTime": {
     "start_time": "2023-04-23T02:40:28.411757Z",
     "end_time": "2023-04-23T02:40:28.417174Z"
    }
   }
  },
  {
   "cell_type": "code",
   "execution_count": null,
   "outputs": [],
   "source": [
    "find_value='է'\n",
    "\n",
    "positions=[find_positions(words,find_value) for words in words_list]\n",
    "\n",
    "print_pos(positions)"
   ],
   "metadata": {
    "collapsed": false,
    "ExecuteTime": {
     "start_time": "2023-04-23T02:40:29.918449Z",
     "end_time": "2023-04-23T02:40:30.197497Z"
    }
   }
  },
  {
   "cell_type": "code",
   "execution_count": null,
   "outputs": [],
   "source": [
    "find_value='ե'\n",
    "\n",
    "positions=[find_positions(words,find_value) for words in words_list]\n",
    "\n",
    "print_pos(positions)"
   ],
   "metadata": {
    "collapsed": false,
    "ExecuteTime": {
     "start_time": "2023-04-23T02:40:35.449242Z",
     "end_time": "2023-04-23T02:40:35.792453Z"
    }
   }
  },
  {
   "cell_type": "code",
   "execution_count": null,
   "outputs": [],
   "source": [
    "find_value='օ'\n",
    "# find_value='o'\n",
    "\n",
    "positions=[find_positions(words,find_value) for words in words_list]\n",
    "\n",
    "print_pos(positions)"
   ],
   "metadata": {
    "collapsed": false,
    "ExecuteTime": {
     "start_time": "2023-04-23T02:39:18.581125Z",
     "end_time": "2023-04-23T02:39:18.834191Z"
    }
   }
  },
  {
   "cell_type": "code",
   "execution_count": null,
   "outputs": [],
   "source": [
    "find_value='եան'\n",
    "\n",
    "positions=[find_positions(words,find_value) for words in words_list]\n",
    "\n",
    "print_pos(positions)"
   ],
   "metadata": {
    "collapsed": false,
    "ExecuteTime": {
     "start_time": "2023-04-23T03:02:28.368481Z",
     "end_time": "2023-04-23T03:02:28.714716Z"
    }
   }
  },
  {
   "cell_type": "code",
   "execution_count": null,
   "outputs": [],
   "source": [
    "find_value='զի'\n",
    "\n",
    "positions=[find_positions(words,find_value) for words in words_list]\n",
    "\n",
    "print_pos(positions)"
   ],
   "metadata": {
    "collapsed": false,
    "ExecuteTime": {
     "start_time": "2023-04-23T03:03:18.237764Z",
     "end_time": "2023-04-23T03:03:18.485734Z"
    }
   }
  },
  {
   "cell_type": "code",
   "execution_count": null,
   "outputs": [],
   "source": [
    "find_value='իլ'\n",
    "positions=[find_positions(words,find_value) for words in words_list]\n",
    "\n",
    "find_value='իւ'\n",
    "positions_new=[find_positions(words,find_value) for words in words_list]\n",
    "\n",
    "pos=[]\n",
    "for i,posit in enumerate(positions):\n",
    "    pos.append(posit+positions_new[i])\n",
    "\n",
    "print_pos(pos)"
   ],
   "metadata": {
    "collapsed": false,
    "ExecuteTime": {
     "start_time": "2023-04-23T02:38:21.252619Z",
     "end_time": "2023-04-23T02:38:21.640847Z"
    }
   }
  },
  {
   "cell_type": "code",
   "execution_count": null,
   "outputs": [],
   "source": [
    "find_value='ել'\n",
    "positions=[find_positions(words,find_value) for words in words_list]\n",
    "\n",
    "find_value='եւ'\n",
    "positions_new=[find_positions(words,find_value) for words in words_list]\n",
    "\n",
    "pos=[]\n",
    "for i,posit in enumerate(positions):\n",
    "    pos.append(posit+positions_new[i])\n",
    "\n",
    "print_pos(pos)"
   ],
   "metadata": {
    "collapsed": false,
    "ExecuteTime": {
     "start_time": "2023-04-23T02:42:10.416525Z",
     "end_time": "2023-04-23T02:42:10.903796Z"
    }
   }
  },
  {
   "cell_type": "code",
   "execution_count": null,
   "outputs": [],
   "source": [
    "find_value='կը'\n",
    "\n",
    "positions=[find_positions(words,find_value) for words in words_list]\n",
    "\n",
    "print_pos(positions)"
   ],
   "metadata": {
    "collapsed": false,
    "ExecuteTime": {
     "start_time": "2023-04-23T02:55:31.040011Z",
     "end_time": "2023-04-23T02:55:31.434743Z"
    }
   }
  },
  {
   "cell_type": "code",
   "execution_count": null,
   "outputs": [],
   "source": [
    "find_value='ել'\n",
    "\n",
    "positions=[find_positions(words,find_value) for words in words_list]\n",
    "\n",
    "fig,axes=plt.subplots(2,2,figsize=(7,7))\n",
    "names=[f'west_pos, {west_files_paths[0][8:18]}',f'west_pos, {west_files_paths[1][8:18]}',\n",
    "       f'east_pos, {east_files_paths[0][8:18]}',f'east_pos, {east_files_paths[1][8:18]}']\n",
    "\n",
    "step=0\n",
    "bins=10\n",
    "for i,axes_list in enumerate(axes):\n",
    "    for j,ax in enumerate(axes_list):\n",
    "        # ax.hist(positions[step],bins=bins,density=True)\n",
    "        norm=sum(positions[step])\n",
    "        y, x = np.histogram(positions[step], bins=np.linspace(0,1,bins))\n",
    "        x=x[:-1]\n",
    "        y=y/norm\n",
    "        # y=y/y_il_list[step]\n",
    "        y=y_il_list[step]/y\n",
    "        ax.plot(x,y)\n",
    "        ax.scatter(x,y,c='green')\n",
    "        ax.set_title(names[step])\n",
    "        step+=1\n",
    "\n",
    "\n",
    "plt.show()"
   ],
   "metadata": {
    "collapsed": false,
    "ExecuteTime": {
     "start_time": "2023-04-23T02:21:32.346625Z",
     "end_time": "2023-04-23T02:21:32.557932Z"
    }
   }
  }
 ],
 "metadata": {
  "kernelspec": {
   "name": "torch",
   "language": "python",
   "display_name": "torch"
  },
  "language_info": {
   "codemirror_mode": {
    "name": "ipython",
    "version": 2
   },
   "file_extension": ".py",
   "mimetype": "text/x-python",
   "name": "python",
   "nbconvert_exporter": "python",
   "pygments_lexer": "ipython2",
   "version": "2.7.6"
  }
 },
 "nbformat": 4,
 "nbformat_minor": 0
}
