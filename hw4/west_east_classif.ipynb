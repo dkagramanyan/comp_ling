{
 "cells": [
  {
   "cell_type": "code",
   "execution_count": null,
   "metadata": {
    "collapsed": true,
    "ExecuteTime": {
     "start_time": "2023-04-27T21:20:01.011057Z",
     "end_time": "2023-04-27T21:20:02.383356Z"
    }
   },
   "outputs": [],
   "source": [
    "import numpy as np\n",
    "import os\n",
    "from matplotlib import pyplot as plt\n",
    "import glob\n",
    "from collections import Counter\n",
    "from sklearn.linear_model import LinearRegression\n",
    "from lmfit.models import Model"
   ]
  },
  {
   "cell_type": "code",
   "execution_count": null,
   "outputs": [],
   "source": [
    "def preprocess(sentence):\n",
    "    txt=sentence.replace('\\n','')\n",
    "    txt=txt.split(' ')\n",
    "    return txt"
   ],
   "metadata": {
    "collapsed": false,
    "ExecuteTime": {
     "start_time": "2023-04-27T21:09:56.510148Z",
     "end_time": "2023-04-27T21:09:56.522542Z"
    }
   }
  },
  {
   "cell_type": "code",
   "execution_count": null,
   "outputs": [],
   "source": [
    "west_folder='western/'\n",
    "east_folder='eastern/'\n",
    "grabar_folder='grabar/'\n",
    "\n",
    "\n",
    "west_files_paths=glob.glob(west_folder+'/*.txt')\n",
    "east_files_paths=glob.glob(east_folder+'/*.txt')\n",
    "grabar_files_paths=glob.glob(grabar_folder+'/*.txt')\n",
    "\n",
    "names=[path.replace('/',' ')[:15] for path in west_files_paths]\n",
    "names.extend([path.replace('/',' ')[:15] for path in east_files_paths])\n",
    "names.extend([path.replace('/',' ')[:15] for path in grabar_files_paths])\n",
    "\n",
    "west_files=[' '.join(open(path,'r',encoding='utf8').readlines()) for path in west_files_paths]\n",
    "east_files=[' '.join(open(path,'r',encoding='utf8').readlines()) for path in east_files_paths]\n",
    "grabar_files=[' '.join(open(path,'r',encoding='utf8').readlines()) for path in grabar_files_paths]\n",
    "\n",
    "words_count=[len(preprocess(sentence)) for sentence in west_files]\n",
    "words_count.extend([len(preprocess(sentence)) for sentence in east_files])\n",
    "words_count.extend([len(preprocess(sentence)) for sentence in grabar_files])\n",
    "\n",
    "words_list=[preprocess(sentence) for sentence in west_files]\n",
    "words_list.extend([preprocess(sentence) for sentence in east_files])\n",
    "words_list.extend([preprocess(sentence) for sentence in grabar_files])\n",
    "\n",
    "# west_files"
   ],
   "metadata": {
    "collapsed": false,
    "ExecuteTime": {
     "start_time": "2023-04-27T21:42:02.768173Z",
     "end_time": "2023-04-27T21:42:02.889845Z"
    }
   }
  },
  {
   "cell_type": "code",
   "execution_count": null,
   "outputs": [],
   "source": [
    "def lin_regr_approx(x, y):\n",
    "    \"\"\"\n",
    "    :param x: list (n,)\n",
    "    :param y: list (n,)\n",
    "    :return: (x_pred, y_pred), k, b, angle, score\n",
    "    \"\"\"\n",
    "    #\n",
    "    # аппроксимация распределения линейной функцией и создание графика по параметрам распределения\n",
    "    #\n",
    "\n",
    "    x=np.array(x)\n",
    "    if len(x)==0:\n",
    "        x=np.array([0])\n",
    "\n",
    "    y=np.array(y).reshape((-1,1))\n",
    "    x=np.array(x).reshape((-1,1))\n",
    "\n",
    "    x_pred = np.linspace(x.min(axis=0), x.max(axis=0), 50)\n",
    "\n",
    "    reg = LinearRegression().fit(x, y)\n",
    "    y_pred = reg.predict(x_pred)\n",
    "\n",
    "    k = reg.coef_[0][0]\n",
    "    b = reg.predict([[0]])[0][0]\n",
    "\n",
    "    angle = np.rad2deg(np.arctan(k))\n",
    "    score = reg.score(x, y)\n",
    "\n",
    "    return (x_pred, y_pred), k, b, angle, score"
   ],
   "metadata": {
    "collapsed": false,
    "ExecuteTime": {
     "start_time": "2023-04-27T21:10:00.000659Z",
     "end_time": "2023-04-27T21:10:00.012586Z"
    }
   }
  },
  {
   "cell_type": "code",
   "execution_count": null,
   "outputs": [],
   "source": [
    "def gaussian(x, mu, sigma, amp=1):\n",
    "    \"\"\"\n",
    "    :param x: list (n,)\n",
    "    :param mu: float\n",
    "    :param sigma: float\n",
    "    :param amp: float\n",
    "    :return: list (n,)\n",
    "    \"\"\"\n",
    "    #\n",
    "    # возвращает нормальную фунцию по заданным параметрам\n",
    "    #\n",
    "    return np.array((amp / (np.sqrt(2 * np.pi) * sigma)) * np.exp(-(x - mu) ** 2 / (2 * sigma ** 2)))"
   ],
   "metadata": {
    "collapsed": false,
    "ExecuteTime": {
     "start_time": "2023-04-27T21:13:32.963365Z",
     "end_time": "2023-04-27T21:13:32.967002Z"
    }
   }
  },
  {
   "cell_type": "code",
   "execution_count": null,
   "outputs": [],
   "source": [
    "def gaussian_fit(x, y, mu=5, sigma=1, amp=1):\n",
    "    \"\"\"\n",
    "    :param x: list (n,)\n",
    "    :param y: list (n,)\n",
    "    :param mu: float\n",
    "    :param sigma: float\n",
    "    :param amp: float\n",
    "    :return: mus, sigmas, amps\n",
    "    \"\"\"\n",
    "    #\n",
    "    # аппроксимация заданных точек нормальной функцией\n",
    "    #\n",
    "    gmodel = Model(gaussian)\n",
    "    res = gmodel.fit(y, x=x, mu=mu, sigma=sigma, amp=amp)\n",
    "\n",
    "    mu = res.params['mu'].value\n",
    "    sigma = res.params['sigma'].value\n",
    "    amp = res.params['amp'].value\n",
    "\n",
    "    return mu, sigma, amp"
   ],
   "metadata": {
    "collapsed": false,
    "ExecuteTime": {
     "start_time": "2023-04-27T21:21:31.075947Z",
     "end_time": "2023-04-27T21:21:31.080912Z"
    }
   }
  },
  {
   "cell_type": "code",
   "execution_count": null,
   "outputs": [],
   "source": [
    "def find_positions(words,find_values):\n",
    "    positions=[]\n",
    "    for word in words:\n",
    "        for value in find_values:\n",
    "            pos=word.find(value)\n",
    "            if pos!=-1:\n",
    "                # positions.append((pos+1)/len(word))\n",
    "                positions.append((pos+1))\n",
    "    return positions"
   ],
   "metadata": {
    "collapsed": false,
    "ExecuteTime": {
     "start_time": "2023-04-27T21:13:37.525861Z",
     "end_time": "2023-04-27T21:13:37.527743Z"
    }
   }
  },
  {
   "cell_type": "code",
   "execution_count": null,
   "outputs": [],
   "source": [
    "def print_pos(positions,find_value,log=False,linear=False,min_probab=0.01, gauss=False):\n",
    "    fig,axes=plt.subplots(4,3,figsize=(20,12))\n",
    "\n",
    "    step=0\n",
    "    for i,axes_list in enumerate(axes):\n",
    "        for j,ax in enumerate(axes_list):\n",
    "            if step!=10:\n",
    "                pos=np.array(positions[step])\n",
    "                if len(pos)==0:\n",
    "                    pos=np.array([0])\n",
    "\n",
    "                low, high = np.floor(pos.min()), np.ceil(pos.max())\n",
    "                low=int(low)\n",
    "                high=int(high)\n",
    "\n",
    "                bins = np.linspace(low, high, high - low + 1)\n",
    "                hist, edges = np.histogram(pos, bins=bins, density=True)\n",
    "                # print(step,hist)\n",
    "                edges=edges[:-1]\n",
    "\n",
    "                max_chars=len(hist)\n",
    "                for k,h in enumerate(hist):\n",
    "                    if h<min_probab:\n",
    "                        max_chars=k\n",
    "                        break\n",
    "\n",
    "                hist=hist[:max_chars]\n",
    "                # print(step,hist,'\\n---')\n",
    "                edges=edges[:max_chars]\n",
    "\n",
    "\n",
    "                for i in range(len(hist))[1:-1]:\n",
    "                    if hist[i]==0:\n",
    "                        hist[i]=np.mean([hist[i-1],hist[i+1]])\n",
    "\n",
    "            # mean=np.mean(hist)\n",
    "                # mean=np.log(mean)\n",
    "                sum_scatter=sum(hist)\n",
    "                legend=f'all words={len(pos)}\\n words count={words_count[step]}\\nscatter sum={round(sum_scatter,2)}'\n",
    "                if log:\n",
    "                    hist=np.log(hist)\n",
    "\n",
    "                if linear:\n",
    "                    (x_pred, y_pred), k, b, angle, score=lin_regr_approx(edges,hist)\n",
    "                    ax.plot(x_pred,y_pred)\n",
    "                    legend+=f'\\nk={round(k,2)}\\nscore={round(score,2)}'\n",
    "\n",
    "                if gauss:\n",
    "                    if len(edges)>0:\n",
    "                        # print('edges',edges)\n",
    "                        # print('hist',hist)\n",
    "                        # print('----')\n",
    "                        mu, sigma, amp=gaussian_fit(edges, hist)\n",
    "                        x_gauss=np.linspace(1,max(edges))\n",
    "                        y_gauss=gaussian(x_gauss, mu=mu, sigma=sigma, amp=amp)\n",
    "                        ax.plot(x_gauss,y_gauss)\n",
    "                        legend+=f'\\nmu={round(mu,2)}\\nsigma={round(sigma,2)}\\namp={round(amp,2)}'\n",
    "\n",
    "                if len(edges)==0:\n",
    "                    edges=[0]\n",
    "                    hist=[0]\n",
    "\n",
    "                ax.plot(edges,hist)\n",
    "                # ax.axhline(y=mean, color='r', linestyle='-')\n",
    "                ax.scatter(edges,hist,c='green')\n",
    "                ax.set_xticks(np.arange(1,max(edges)+1,1))\n",
    "\n",
    "                # ax.set_yticks(np.linspace(0,max(hist),5))\n",
    "                ax.set_title(str(step)+' '+find_value[0]+' '+names[step])\n",
    "\n",
    "                ax.legend([legend])\n",
    "                ax.set_ylabel('p (x) ')\n",
    "                ax.set_xlabel('char position in word')\n",
    "                step+=1\n",
    "\n",
    "    fig.subplots_adjust(wspace=0.15,hspace=0.45)\n",
    "    # plt.rc('axes', unicode_minus=False)\n",
    "    plt.show()"
   ],
   "metadata": {
    "collapsed": false,
    "ExecuteTime": {
     "start_time": "2023-04-27T21:33:55.101847Z",
     "end_time": "2023-04-27T21:33:55.115230Z"
    }
   }
  },
  {
   "cell_type": "code",
   "execution_count": null,
   "outputs": [],
   "source": [
    "# find_value=['է']\n",
    "find_value=['ել','եւ']\n",
    "# log=True\n",
    "log=False\n",
    "# linear=True\n",
    "linear=False\n",
    "# gauss=True\n",
    "gauss=False\n",
    "min_probab=0.0001\n",
    "\n",
    "positions=[find_positions(words,find_value) for words in words_list]\n",
    "\n",
    "print_pos(positions,find_value,log=log,linear=linear,min_probab=min_probab,gauss=gauss)"
   ],
   "metadata": {
    "collapsed": false,
    "ExecuteTime": {
     "start_time": "2023-04-27T21:42:23.643490Z",
     "end_time": "2023-04-27T21:42:24.938808Z"
    }
   }
  },
  {
   "cell_type": "code",
   "execution_count": null,
   "outputs": [],
   "source": [
    "find_value=['օ','o']\n",
    "log=True\n",
    "# log=False\n",
    "linear=True\n",
    "min_probab=0.01\n",
    "\n",
    "positions=[find_positions(words,find_value) for words in words_list]\n",
    "\n",
    "print_pos(positions,find_value,log=log,linear=linear,min_probab=min_probab)"
   ],
   "metadata": {
    "collapsed": false,
    "ExecuteTime": {
     "start_time": "2023-04-27T16:50:51.386609Z",
     "end_time": "2023-04-27T16:50:52.148067Z"
    }
   }
  },
  {
   "cell_type": "code",
   "execution_count": null,
   "outputs": [],
   "source": [
    "find_value=['եան']\n",
    "log=True\n",
    "# log=False\n",
    "linear=True\n",
    "min_probab=0.001\n",
    "\n",
    "positions=[find_positions(words,find_value) for words in words_list]\n",
    "\n",
    "print_pos(positions,find_value,log=log,linear=linear,min_probab=min_probab)"
   ],
   "metadata": {
    "collapsed": false,
    "ExecuteTime": {
     "start_time": "2023-04-25T21:56:12.810750Z",
     "end_time": "2023-04-25T21:56:13.486876Z"
    }
   }
  },
  {
   "cell_type": "code",
   "execution_count": null,
   "outputs": [],
   "source": [
    "find_value=['իլ','իւ']\n",
    "log=True\n",
    "# log=False\n",
    "linear=True\n",
    "min_probab=0.00001\n",
    "\n",
    "positions=[find_positions(words,find_value) for words in words_list]\n",
    "\n",
    "print_pos(positions,find_value,log=log,linear=linear,min_probab=min_probab)"
   ],
   "metadata": {
    "collapsed": false,
    "ExecuteTime": {
     "start_time": "2023-04-27T16:52:16.079679Z",
     "end_time": "2023-04-27T16:52:16.821743Z"
    }
   }
  },
  {
   "cell_type": "code",
   "execution_count": null,
   "outputs": [],
   "source": [
    "find_value=['ել','եւ']\n",
    "log=True\n",
    "# log=False\n",
    "linear=True\n",
    "min_probab=0.00001\n",
    "\n",
    "positions=[find_positions(words,find_value) for words in words_list]\n",
    "\n",
    "print_pos(positions,find_value,log=log,linear=linear,min_probab=min_probab)"
   ],
   "metadata": {
    "collapsed": false,
    "ExecuteTime": {
     "start_time": "2023-04-27T16:52:52.356713Z",
     "end_time": "2023-04-27T16:52:53.122847Z"
    }
   }
  },
  {
   "cell_type": "code",
   "execution_count": null,
   "outputs": [],
   "source": [
    "find_value=['կը']\n",
    "log=False\n",
    "\n",
    "positions=[find_positions(words,find_value) for words in words_list]\n",
    "\n",
    "print_pos(positions,find_value,log=log)"
   ],
   "metadata": {
    "collapsed": false,
    "ExecuteTime": {
     "start_time": "2023-04-23T21:01:33.503557Z",
     "end_time": "2023-04-23T21:01:34.128152Z"
    }
   }
  },
  {
   "cell_type": "code",
   "execution_count": null,
   "outputs": [],
   "source": [
    "find_value=['մը']\n",
    "log=False\n",
    "\n",
    "positions=[find_positions(words,find_value) for words in words_list]\n",
    "\n",
    "print_pos(positions,find_value,log=log)"
   ],
   "metadata": {
    "collapsed": false,
    "ExecuteTime": {
     "start_time": "2023-04-23T21:01:35.766499Z",
     "end_time": "2023-04-23T21:01:36.630455Z"
    }
   }
  },
  {
   "cell_type": "code",
   "execution_count": null,
   "outputs": [],
   "source": [
    "find_value='ել'\n",
    "\n",
    "positions=[find_positions(words,find_value) for words in words_list]\n",
    "\n",
    "fig,axes=plt.subplots(2,2,figsize=(7,7))\n",
    "names=[f'west_pos, {west_files_paths[0][8:18]}',f'west_pos, {west_files_paths[1][8:18]}',\n",
    "       f'east_pos, {east_files_paths[0][8:18]}',f'east_pos, {east_files_paths[1][8:18]}']\n",
    "\n",
    "step=0\n",
    "bins=10\n",
    "for i,axes_list in enumerate(axes):\n",
    "    for j,ax in enumerate(axes_list):\n",
    "        # ax.hist(positions[step],bins=bins,density=True)\n",
    "        norm=sum(positions[step])\n",
    "        y, x = np.histogram(positions[step], bins=np.linspace(0,1,bins))\n",
    "        x=x[:-1]\n",
    "        y=y/norm\n",
    "        # y=y/y_il_list[step]\n",
    "        y=y_il_list[step]/y\n",
    "        ax.plot(x,y)\n",
    "        ax.scatter(x,y,c='green')\n",
    "        ax.set_title(names[step])\n",
    "        step+=1\n",
    "\n",
    "\n",
    "plt.show()"
   ],
   "metadata": {
    "collapsed": false,
    "ExecuteTime": {
     "start_time": "2023-04-23T02:21:32.346625Z",
     "end_time": "2023-04-23T02:21:32.557932Z"
    }
   }
  }
 ],
 "metadata": {
  "kernelspec": {
   "name": "torch",
   "language": "python",
   "display_name": "torch"
  },
  "language_info": {
   "codemirror_mode": {
    "name": "ipython",
    "version": 2
   },
   "file_extension": ".py",
   "mimetype": "text/x-python",
   "name": "python",
   "nbconvert_exporter": "python",
   "pygments_lexer": "ipython2",
   "version": "2.7.6"
  }
 },
 "nbformat": 4,
 "nbformat_minor": 0
}
