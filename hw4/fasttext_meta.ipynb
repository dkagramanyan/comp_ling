{
 "cells": [
  {
   "cell_type": "code",
   "execution_count": null,
   "metadata": {
    "collapsed": true,
    "ExecuteTime": {
     "start_time": "2023-05-06T21:58:51.714896Z",
     "end_time": "2023-05-06T21:58:51.808145Z"
    }
   },
   "outputs": [],
   "source": [
    "\n",
    "# from fastText.util.util import find_nearest_neighbor\n",
    "# from fastText import load_model\n",
    "from huggingface_hub import hf_hub_download\n",
    "import pandas as pd\n",
    "import re\n",
    "import numpy as np\n",
    "import csv\n",
    "import os\n",
    "from scipy import stats\n",
    "from sklearn.manifold import TSNE\n",
    "from gensim.models import FastText, KeyedVectors\n",
    "\n",
    "from gensim.models.fasttext import load_facebook_model,load_facebook_vectors\n",
    "import matplotlib.pyplot as plt\n",
    "%matplotlib inline"
   ]
  },
  {
   "cell_type": "code",
   "execution_count": null,
   "outputs": [],
   "source": [
    "data=pd.read_csv('datasets/dump_wiki_hy.csv')"
   ],
   "metadata": {
    "collapsed": false,
    "ExecuteTime": {
     "start_time": "2023-05-03T20:58:44.846697Z",
     "end_time": "2023-05-03T20:58:56.349798Z"
    }
   }
  },
  {
   "cell_type": "code",
   "execution_count": null,
   "outputs": [],
   "source": [
    "data.to_csv('dump_wiki_hy.txt', header=None, index=None, sep=' ', mode='a')"
   ],
   "metadata": {
    "collapsed": false,
    "ExecuteTime": {
     "start_time": "2023-05-03T21:01:04.513773Z",
     "end_time": "2023-05-03T21:01:16.101860Z"
    }
   }
  },
  {
   "cell_type": "code",
   "execution_count": null,
   "outputs": [],
   "source": [
    "model = fasttext.train_unsupervised('dump_wiki_hy.txt', model='skipgram')"
   ],
   "metadata": {
    "collapsed": false,
    "pycharm": {
     "is_executing": true
    }
   }
  },
  {
   "cell_type": "code",
   "execution_count": null,
   "outputs": [],
   "source": [
    "import fasttext\n",
    "\n",
    "model_1 = fasttext.load_model('output.bin')"
   ],
   "metadata": {
    "collapsed": false,
    "ExecuteTime": {
     "start_time": "2023-05-06T21:58:41.517313Z",
     "end_time": "2023-05-06T21:58:41.526289Z"
    }
   }
  },
  {
   "cell_type": "code",
   "execution_count": null,
   "outputs": [],
   "source": [
    "model_1.get_nearest_neighbors('զենքեր')"
   ],
   "metadata": {
    "collapsed": false,
    "ExecuteTime": {
     "start_time": "2023-05-06T21:58:43.887579Z",
     "end_time": "2023-05-06T21:58:43.896579Z"
    }
   }
  },
  {
   "cell_type": "code",
   "execution_count": null,
   "outputs": [],
   "source": [
    "model_2 = fasttext.load_model('facebook.bin')"
   ],
   "metadata": {
    "collapsed": false,
    "ExecuteTime": {
     "start_time": "2023-05-06T22:02:04.046631Z",
     "end_time": "2023-05-06T22:02:04.057602Z"
    }
   }
  },
  {
   "cell_type": "code",
   "execution_count": null,
   "outputs": [],
   "source": [
    "model_3 = fasttext.load_model('fastTextOur.bin')"
   ],
   "metadata": {
    "collapsed": false,
    "ExecuteTime": {
     "start_time": "2023-05-06T23:12:23.776073Z",
     "end_time": "2023-05-06T23:12:23.779019Z"
    }
   }
  },
  {
   "cell_type": "code",
   "execution_count": null,
   "outputs": [],
   "source": [
    "words=['զենքեր', 'բանակ','գիրք','օրենք','կաշառք']\n",
    "i=4"
   ],
   "metadata": {
    "collapsed": false,
    "ExecuteTime": {
     "start_time": "2023-05-06T23:43:23.809785Z",
     "end_time": "2023-05-06T23:43:23.822750Z"
    }
   }
  },
  {
   "cell_type": "code",
   "execution_count": null,
   "outputs": [],
   "source": [
    "words_analogies=[['բանակ','զենքեր','մարդ'],\n",
    "                 ['Մոսկվա','Ռուսաստան','Երևան'],\n",
    "                 ['ամուսին','կին','որդի'],\n",
    "                 ['պարզ', 'բարդ' ,'հաճելի' ],\n",
    "                 ['վճռական','անվճռական', 'պարզ']\n",
    "\n",
    "]\n",
    "words_analogies_lower=[]\n",
    "for line in words_analogies:\n",
    "    sents=[word.lower() for word in line]\n",
    "    words_analogies_lower.append(sents)\n",
    "k=4"
   ],
   "metadata": {
    "collapsed": false,
    "ExecuteTime": {
     "start_time": "2023-05-06T23:41:53.361805Z",
     "end_time": "2023-05-06T23:41:53.379757Z"
    }
   }
  },
  {
   "cell_type": "code",
   "execution_count": null,
   "outputs": [],
   "source": [
    "model_1.get_analogies(*words_analogies_lower[k])"
   ],
   "metadata": {
    "collapsed": false,
    "ExecuteTime": {
     "start_time": "2023-05-06T23:41:56.906689Z",
     "end_time": "2023-05-06T23:41:56.917657Z"
    }
   }
  },
  {
   "cell_type": "code",
   "execution_count": null,
   "outputs": [],
   "source": [
    "word=words[i]\n",
    "print('word',word)\n",
    "print('my model')\n",
    "res=model_1.get_nearest_neighbors(word)\n",
    "for line in res:\n",
    "    print(line)\n",
    "\n",
    "print('--')\n",
    "\n",
    "print('ispras model')\n",
    "res=model_3.get_nearest_neighbors(word,40)\n",
    "for line in res:\n",
    "    print(line)\n",
    "\n",
    "print('--')\n",
    "\n",
    "print('facebook model')\n",
    "res=model_2.get_nearest_neighbors(word,40)\n",
    "for line in res:\n",
    "    print(line)"
   ],
   "metadata": {
    "collapsed": false,
    "ExecuteTime": {
     "start_time": "2023-05-06T23:43:26.125069Z",
     "end_time": "2023-05-06T23:43:26.861607Z"
    }
   }
  }
 ],
 "metadata": {
  "kernelspec": {
   "name": "torch",
   "language": "python",
   "display_name": "torch"
  },
  "language_info": {
   "codemirror_mode": {
    "name": "ipython",
    "version": 2
   },
   "file_extension": ".py",
   "mimetype": "text/x-python",
   "name": "python",
   "nbconvert_exporter": "python",
   "pygments_lexer": "ipython2",
   "version": "2.7.6"
  }
 },
 "nbformat": 4,
 "nbformat_minor": 0
}
