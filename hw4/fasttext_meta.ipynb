{
 "cells": [
  {
   "cell_type": "code",
   "execution_count": null,
   "metadata": {
    "collapsed": true,
    "ExecuteTime": {
     "start_time": "2023-05-08T11:43:58.665017Z",
     "end_time": "2023-05-08T11:44:00.953018Z"
    }
   },
   "outputs": [],
   "source": [
    "\n",
    "# from fastText.util.util import find_nearest_neighbor\n",
    "# from fastText import load_model\n",
    "from huggingface_hub import hf_hub_download\n",
    "import pandas as pd\n",
    "import re\n",
    "import numpy as np\n",
    "import csv\n",
    "import os\n",
    "from scipy import stats\n",
    "from sklearn.manifold import TSNE\n",
    "from gensim.models import FastText, KeyedVectors\n",
    "\n",
    "from gensim.models.fasttext import load_facebook_model,load_facebook_vectors\n",
    "import matplotlib.pyplot as plt\n",
    "from tqdm.notebook import tqdm\n",
    "\n",
    "import fasttext\n",
    "%matplotlib inline"
   ]
  },
  {
   "cell_type": "markdown",
   "source": [
    "## Read data"
   ],
   "metadata": {
    "collapsed": false
   }
  },
  {
   "cell_type": "code",
   "execution_count": null,
   "outputs": [],
   "source": [
    "df = pd.read_csv(\"datasets/arlis.csv\")  #\n",
    "df2 = pd.read_csv(\"datasets/dump_wiki_hy.csv\")"
   ],
   "metadata": {
    "collapsed": false
   }
  },
  {
   "cell_type": "markdown",
   "source": [
    "## Clean data"
   ],
   "metadata": {
    "collapsed": false
   }
  },
  {
   "cell_type": "code",
   "execution_count": null,
   "outputs": [],
   "source": [
    "all_tokens=[]"
   ],
   "metadata": {
    "collapsed": false
   }
  },
  {
   "cell_type": "code",
   "execution_count": null,
   "outputs": [],
   "source": [
    "# удалим пунктуацию и двойные пробелы\n",
    "\n",
    "punctuation=['.','-',',','!','?','(','—',')','՞','՛','։','՝','՜','’','«','»','*','\\n','=',':','[',']','/',';','․','`','\\t','%','$','\\xa0','\\r','_','●']\n",
    "\n",
    "\n",
    "for i,text in enumerate(tqdm(df2[\"article\"].values)):\n",
    "# for i,text in enumerate(tqdm(df1[\"text\"].values)):\n",
    "    if type(text) is str:\n",
    "        # print(i)\n",
    "        for spaced in punctuation:\n",
    "            text = text.replace(spaced, '  ').lower()\n",
    "\n",
    "        text=re.sub(\" +\", \" \", text)\n",
    "\n",
    "        all_tokens.append(text)"
   ],
   "metadata": {
    "collapsed": false
   }
  },
  {
   "cell_type": "code",
   "execution_count": null,
   "outputs": [],
   "source": [
    "with open(\"arlis_wiki_hy_cleaned.txt\", \"w\",encoding='utf-8') as f:\n",
    "    for item in all_tokens:\n",
    "        f.write(\"%s\\n\" % item)"
   ],
   "metadata": {
    "collapsed": false
   }
  },
  {
   "cell_type": "markdown",
   "source": [
    "## Train"
   ],
   "metadata": {
    "collapsed": false
   }
  },
  {
   "cell_type": "code",
   "execution_count": null,
   "outputs": [],
   "source": [
    "data=pd.read_csv('datasets/dump_wiki_hy.csv')"
   ],
   "metadata": {
    "collapsed": false,
    "ExecuteTime": {
     "start_time": "2023-05-03T20:58:44.846697Z",
     "end_time": "2023-05-03T20:58:56.349798Z"
    }
   }
  },
  {
   "cell_type": "code",
   "execution_count": null,
   "outputs": [],
   "source": [
    "data.to_csv('dump_wiki_hy.txt', header=None, index=None, sep=' ', mode='a')"
   ],
   "metadata": {
    "collapsed": false,
    "ExecuteTime": {
     "start_time": "2023-05-03T21:01:04.513773Z",
     "end_time": "2023-05-03T21:01:16.101860Z"
    }
   }
  },
  {
   "cell_type": "code",
   "execution_count": null,
   "outputs": [],
   "source": [
    "model = fasttext.train_unsupervised('arlis_hy_cleaned.txt', model='skipgram')"
   ],
   "metadata": {
    "collapsed": false,
    "pycharm": {
     "is_executing": true
    }
   }
  },
  {
   "cell_type": "markdown",
   "source": [
    "## Load models"
   ],
   "metadata": {
    "collapsed": false
   }
  },
  {
   "cell_type": "code",
   "execution_count": null,
   "outputs": [],
   "source": [
    "model_1 = fasttext.load_model('output.bin')"
   ],
   "metadata": {
    "collapsed": false,
    "ExecuteTime": {
     "start_time": "2023-05-08T11:44:01.837623Z",
     "end_time": "2023-05-08T11:44:09.052894Z"
    }
   }
  },
  {
   "cell_type": "code",
   "execution_count": null,
   "outputs": [],
   "source": [
    "model_1.get_words().__len__()"
   ],
   "metadata": {
    "collapsed": false,
    "ExecuteTime": {
     "start_time": "2023-05-08T18:04:33.266798Z",
     "end_time": "2023-05-08T18:04:33.274777Z"
    }
   }
  },
  {
   "cell_type": "code",
   "execution_count": null,
   "outputs": [],
   "source": [
    "model_2 = fasttext.load_model('facebook.bin')"
   ],
   "metadata": {
    "collapsed": false,
    "ExecuteTime": {
     "start_time": "2023-05-08T11:44:30.579749Z",
     "end_time": "2023-05-08T11:44:30.596704Z"
    }
   }
  },
  {
   "cell_type": "code",
   "execution_count": null,
   "outputs": [],
   "source": [
    "model_2.get_words().__len__()"
   ],
   "metadata": {
    "collapsed": false,
    "ExecuteTime": {
     "start_time": "2023-05-08T18:04:22.442837Z",
     "end_time": "2023-05-08T18:04:22.456800Z"
    }
   }
  },
  {
   "cell_type": "code",
   "execution_count": null,
   "outputs": [],
   "source": [
    "model_3 = fasttext.load_model('fastTextOur.bin')"
   ],
   "metadata": {
    "collapsed": false,
    "ExecuteTime": {
     "start_time": "2023-05-08T11:44:39.407720Z",
     "end_time": "2023-05-08T11:44:39.420685Z"
    }
   }
  },
  {
   "cell_type": "code",
   "execution_count": null,
   "outputs": [],
   "source": [
    "model_3.get_words().__len__()"
   ],
   "metadata": {
    "collapsed": false,
    "ExecuteTime": {
     "start_time": "2023-05-08T18:04:08.368067Z",
     "end_time": "2023-05-08T18:04:08.382030Z"
    }
   }
  },
  {
   "cell_type": "markdown",
   "source": [
    "## Задача аналогии"
   ],
   "metadata": {
    "collapsed": false
   }
  },
  {
   "cell_type": "code",
   "execution_count": null,
   "outputs": [],
   "source": [
    "words_analogies=[['բանակ','զենքեր','մարդ'],\n",
    "                 ['Մոսկվա','Ռուսաստան','Երևան'],\n",
    "                 ['ամուսին','կին','որդի'],\n",
    "                 ['պարզ', 'բարդ' ,'հաճելի' ],\n",
    "                 ['վճռական','անվճռական', 'պարզ'],\n",
    "                 ['հարմար',' անհարմար', 'հաճելի'],\n",
    "                 ['մեքենա','քշել', 'Ինքնաթիռ']\n",
    "\n",
    "]\n",
    "words_analogies_lower=[]\n",
    "for line in words_analogies:\n",
    "    sents=[word.lower() for word in line]\n",
    "    words_analogies_lower.append(sents)\n",
    "\n",
    "k=1"
   ],
   "metadata": {
    "collapsed": false,
    "ExecuteTime": {
     "start_time": "2023-05-08T12:05:56.277236Z",
     "end_time": "2023-05-08T12:05:56.286211Z"
    }
   }
  },
  {
   "cell_type": "code",
   "execution_count": null,
   "outputs": [],
   "source": [
    "word=words_analogies_lower[k]\n",
    "\n",
    "print('word',word)\n",
    "print('my model')\n",
    "res=model_1.get_analogies(*word)\n",
    "for line in res:\n",
    "    print(line)\n",
    "\n",
    "print('--')\n",
    "\n",
    "print('facebook model')\n",
    "res=model_2.get_analogies(*word,40)\n",
    "for line in res:\n",
    "    print(line)\n",
    "\n",
    "print('--')\n",
    "\n",
    "print('ispras model')\n",
    "res=model_3.get_analogies(*word,90)\n",
    "for line in res:\n",
    "    print(line)\n",
    "\n"
   ],
   "metadata": {
    "collapsed": false,
    "ExecuteTime": {
     "start_time": "2023-05-08T12:13:00.783600Z",
     "end_time": "2023-05-08T12:13:01.032933Z"
    }
   }
  },
  {
   "cell_type": "markdown",
   "source": [
    "## Поиск синонимов"
   ],
   "metadata": {
    "collapsed": false
   }
  },
  {
   "cell_type": "code",
   "execution_count": null,
   "outputs": [],
   "source": [
    "words=['զենքեր', 'բանակ','գիրք','օրենք','կաշառք','խմել','պայմանագիր','քշել','գեղեցիկ','տխուր','մայնկրաֆտ']\n",
    "i=-1"
   ],
   "metadata": {
    "collapsed": false,
    "ExecuteTime": {
     "start_time": "2023-05-08T12:26:18.350254Z",
     "end_time": "2023-05-08T12:26:18.363217Z"
    }
   }
  },
  {
   "cell_type": "code",
   "execution_count": null,
   "outputs": [],
   "source": [
    "word=words[i]\n",
    "print('word',word)\n",
    "print('my model')\n",
    "res=model_1.get_nearest_neighbors(word)\n",
    "for line in res:\n",
    "    print(line)\n",
    "\n",
    "print('--')\n",
    "\n",
    "print('facebook model')\n",
    "res=model_2.get_nearest_neighbors(word,40)\n",
    "for line in res:\n",
    "    print(line)\n",
    "\n",
    "print('--')\n",
    "\n",
    "print('ispras model')\n",
    "res=model_3.get_nearest_neighbors(word,70)\n",
    "for line in res:\n",
    "    print(line)\n",
    "\n"
   ],
   "metadata": {
    "collapsed": false,
    "ExecuteTime": {
     "start_time": "2023-05-08T12:26:19.774355Z",
     "end_time": "2023-05-08T12:26:20.719031Z"
    }
   }
  }
 ],
 "metadata": {
  "kernelspec": {
   "name": "torch",
   "language": "python",
   "display_name": "torch"
  },
  "language_info": {
   "codemirror_mode": {
    "name": "ipython",
    "version": 2
   },
   "file_extension": ".py",
   "mimetype": "text/x-python",
   "name": "python",
   "nbconvert_exporter": "python",
   "pygments_lexer": "ipython2",
   "version": "2.7.6"
  }
 },
 "nbformat": 4,
 "nbformat_minor": 0
}
